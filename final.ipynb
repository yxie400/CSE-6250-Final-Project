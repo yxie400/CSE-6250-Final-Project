{
 "cells": [
  {
   "cell_type": "code",
   "execution_count": 1,
   "id": "90d65294-13fa-4ec8-ad74-7b96e3674002",
   "metadata": {},
   "outputs": [],
   "source": [
    "import torch\n",
    "import torch.nn as nn\n",
    "from torch.utils.data import TensorDataset, Dataset, DataLoader\n",
    "import torch.optim as optim\n",
    "import os\n",
    "import time\n",
    "import numpy as np\n",
    "import pandas as pd\n",
    "#!pip install gensim\n",
    "import gensim"
   ]
  },
  {
   "cell_type": "code",
   "execution_count": 2,
   "id": "cf52ea0e-786b-49ae-b237-6fa1d88cb263",
   "metadata": {},
   "outputs": [],
   "source": [
    "PATH_OUTPUT = \"./\""
   ]
  },
  {
   "cell_type": "code",
   "execution_count": 3,
   "id": "1086a326-66dc-418d-9ea9-7e7a1abf283e",
   "metadata": {},
   "outputs": [],
   "source": [
    "admission = pd.read_csv(\"./mortality/train/ADMISSIONS.csv\")\n",
    "mortality = pd.read_csv(\"./mortality/train/MORTALITY.csv\")"
   ]
  },
  {
   "cell_type": "code",
   "execution_count": 73,
   "id": "95d02068-c0af-4ff6-84e6-f24aeb654b66",
   "metadata": {},
   "outputs": [
    {
     "data": {
      "text/plain": [
       "(5273, 2)"
      ]
     },
     "execution_count": 73,
     "metadata": {},
     "output_type": "execute_result"
    }
   ],
   "source": [
    "mortality.shape"
   ]
  },
  {
   "cell_type": "code",
   "execution_count": 74,
   "id": "88b40c67-ca12-4126-91e9-f5db9d29778d",
   "metadata": {},
   "outputs": [
    {
     "data": {
      "text/plain": [
       "(14037, 19)"
      ]
     },
     "execution_count": 74,
     "metadata": {},
     "output_type": "execute_result"
    }
   ],
   "source": [
    "admission.shape"
   ]
  },
  {
   "cell_type": "code",
   "execution_count": 4,
   "id": "c946d193-d12c-4093-a426-54e306af1ce5",
   "metadata": {},
   "outputs": [
    {
     "name": "stderr",
     "output_type": "stream",
     "text": [
      "<ipython-input-4-5a66503d78b6>:4: SettingWithCopyWarning: \n",
      "A value is trying to be set on a copy of a slice from a DataFrame\n",
      "\n",
      "See the caveats in the documentation: https://pandas.pydata.org/pandas-docs/stable/user_guide/indexing.html#returning-a-view-versus-a-copy\n",
      "  diags.DIAGNOSIS[i] = diags.DIAGNOSIS[i].replace('\\\\', ' ').\\\n",
      "/home/xyj/anaconda3/lib/python3.8/site-packages/IPython/core/interactiveshell.py:3437: SettingWithCopyWarning: \n",
      "A value is trying to be set on a copy of a slice from a DataFrame\n",
      "\n",
      "See the caveats in the documentation: https://pandas.pydata.org/pandas-docs/stable/user_guide/indexing.html#returning-a-view-versus-a-copy\n",
      "  exec(code_obj, self.user_global_ns, self.user_ns)\n"
     ]
    },
    {
     "data": {
      "text/html": [
       "<div>\n",
       "<style scoped>\n",
       "    .dataframe tbody tr th:only-of-type {\n",
       "        vertical-align: middle;\n",
       "    }\n",
       "\n",
       "    .dataframe tbody tr th {\n",
       "        vertical-align: top;\n",
       "    }\n",
       "\n",
       "    .dataframe thead th {\n",
       "        text-align: right;\n",
       "    }\n",
       "</style>\n",
       "<table border=\"1\" class=\"dataframe\">\n",
       "  <thead>\n",
       "    <tr style=\"text-align: right;\">\n",
       "      <th></th>\n",
       "      <th>DIAGNOSIS</th>\n",
       "    </tr>\n",
       "    <tr>\n",
       "      <th>SUBJECT_ID</th>\n",
       "      <th></th>\n",
       "    </tr>\n",
       "  </thead>\n",
       "  <tbody>\n",
       "    <tr>\n",
       "      <th>17</th>\n",
       "      <td>PATIENT FORAMEN OVALE  PATENT FORAMEN OVALE MI...</td>\n",
       "    </tr>\n",
       "    <tr>\n",
       "      <th>21</th>\n",
       "      <td>CONGESTIVE HEART FAILURE SEPSIS</td>\n",
       "    </tr>\n",
       "    <tr>\n",
       "      <th>23</th>\n",
       "      <td>CORONARY ARTERY DISEASE CORONARY ARTERY BYPASS...</td>\n",
       "    </tr>\n",
       "    <tr>\n",
       "      <th>34</th>\n",
       "      <td>CHEST PAIN CATH BRADYCARDIA</td>\n",
       "    </tr>\n",
       "    <tr>\n",
       "      <th>36</th>\n",
       "      <td>CORONARY ARTERY DISEASE CORONARY ARTERY BYPASS...</td>\n",
       "    </tr>\n",
       "    <tr>\n",
       "      <th>...</th>\n",
       "      <td>...</td>\n",
       "    </tr>\n",
       "    <tr>\n",
       "      <th>99781</th>\n",
       "      <td>MOTOR VEHICLE ACCIDENT WITH UNSPECIFIED INJURI...</td>\n",
       "    </tr>\n",
       "    <tr>\n",
       "      <th>99822</th>\n",
       "      <td>SQUAMOUS CELL CANCER HYPONATREMIA DIARRHEA</td>\n",
       "    </tr>\n",
       "    <tr>\n",
       "      <th>99883</th>\n",
       "      <td>CARDIOMYOPATHY CARDIAC CATH CORONARY ARTERY DI...</td>\n",
       "    </tr>\n",
       "    <tr>\n",
       "      <th>99923</th>\n",
       "      <td>HYPONATREMIA END STAGE LIVER DISEASE</td>\n",
       "    </tr>\n",
       "    <tr>\n",
       "      <th>99982</th>\n",
       "      <td>TVR SHORTNESS OF BREATH BIVENTRICULAR HEART FA...</td>\n",
       "    </tr>\n",
       "  </tbody>\n",
       "</table>\n",
       "<p>5273 rows × 1 columns</p>\n",
       "</div>"
      ],
      "text/plain": [
       "                                                    DIAGNOSIS\n",
       "SUBJECT_ID                                                   \n",
       "17          PATIENT FORAMEN OVALE  PATENT FORAMEN OVALE MI...\n",
       "21                           CONGESTIVE HEART FAILURE SEPSIS \n",
       "23          CORONARY ARTERY DISEASE CORONARY ARTERY BYPASS...\n",
       "34                               CHEST PAIN CATH BRADYCARDIA \n",
       "36          CORONARY ARTERY DISEASE CORONARY ARTERY BYPASS...\n",
       "...                                                       ...\n",
       "99781       MOTOR VEHICLE ACCIDENT WITH UNSPECIFIED INJURI...\n",
       "99822             SQUAMOUS CELL CANCER HYPONATREMIA DIARRHEA \n",
       "99883       CARDIOMYOPATHY CARDIAC CATH CORONARY ARTERY DI...\n",
       "99923                   HYPONATREMIA END STAGE LIVER DISEASE \n",
       "99982       TVR SHORTNESS OF BREATH BIVENTRICULAR HEART FA...\n",
       "\n",
       "[5273 rows x 1 columns]"
      ]
     },
     "execution_count": 4,
     "metadata": {},
     "output_type": "execute_result"
    }
   ],
   "source": [
    "diags = admission[['SUBJECT_ID', 'DIAGNOSIS']]\n",
    "for i in range(len(diags)):\n",
    "    if isinstance(diags.DIAGNOSIS[i], str):\n",
    "        diags.DIAGNOSIS[i] = diags.DIAGNOSIS[i].replace('\\\\', ' ').\\\n",
    "            replace('/', ' ').replace(',', ' ').\\\n",
    "            replace(';', ' ').replace('*', '') + ' '\n",
    "\n",
    "diags = diags.groupby('SUBJECT_ID').agg('sum')\n",
    "diags"
   ]
  },
  {
   "cell_type": "code",
   "execution_count": 5,
   "id": "06fd8774-5fe1-4b32-945b-6ecbb63ecc63",
   "metadata": {},
   "outputs": [],
   "source": [
    "train_data = pd.merge(mortality, diags, on='SUBJECT_ID')\n",
    "train_data.DIAGNOSIS = train_data.DIAGNOSIS.apply(lambda x: x if isinstance(x, str) else ' ')"
   ]
  },
  {
   "cell_type": "code",
   "execution_count": 6,
   "id": "8b3df458-bd77-4e4f-a0e1-68fc3c073124",
   "metadata": {},
   "outputs": [],
   "source": [
    "train_corpus = train_data.DIAGNOSIS.apply(lambda x: x.split(\" \"))\n",
    "wvmodel = gensim.models.Word2Vec(sentences=train_corpus, vector_size=300)\n",
    "word_map = wvmodel.wv.key_to_index"
   ]
  },
  {
   "cell_type": "code",
   "execution_count": 7,
   "id": "6b5e8256-647f-4223-b123-5971384c29d5",
   "metadata": {},
   "outputs": [
    {
     "data": {
      "text/plain": [
       "300"
      ]
     },
     "execution_count": 7,
     "metadata": {},
     "output_type": "execute_result"
    }
   ],
   "source": [
    "len(wvmodel.wv.vectors[0])"
   ]
  },
  {
   "cell_type": "code",
   "execution_count": 8,
   "id": "cce40f37-5607-46a9-a376-eb74f3da9fab",
   "metadata": {},
   "outputs": [
    {
     "data": {
      "text/plain": [
       "183"
      ]
     },
     "execution_count": 8,
     "metadata": {},
     "output_type": "execute_result"
    }
   ],
   "source": [
    "diag_len = train_data.DIAGNOSIS.apply(lambda x: x.split(\" \")).apply(len).max()\n",
    "diag_len"
   ]
  },
  {
   "cell_type": "code",
   "execution_count": 9,
   "id": "5f70f71c-7a0f-4b9b-b553-24fe20f69cd1",
   "metadata": {},
   "outputs": [
    {
     "name": "stdout",
     "output_type": "stream",
     "text": [
      "[1, 24, 20, 166, 63, 64, 37, 106, 24, 20, 202, 25, 0]\n"
     ]
    }
   ],
   "source": [
    "train_X = (\n",
    "    train_data\n",
    "    .DIAGNOSIS\n",
    "    .apply(lambda x: list(map(lambda word: word_map[word] if word in word_map else 1, x.split(\" \"))))\n",
    ")\n",
    "print(train_X[0])"
   ]
  },
  {
   "cell_type": "code",
   "execution_count": 10,
   "id": "8abd6a5f-b3ef-4494-9327-3a0829c139c6",
   "metadata": {},
   "outputs": [
    {
     "data": {
      "text/plain": [
       "array([  1,  24,  20, 166,  63,  64,  37, 106,  24,  20, 202,  25,   0,\n",
       "         0,   0,   0,   0,   0,   0,   0,   0,   0,   0,   0,   0,   0,\n",
       "         0,   0,   0,   0,   0,   0,   0,   0,   0,   0,   0,   0,   0,\n",
       "         0,   0,   0,   0,   0,   0,   0,   0,   0,   0,   0,   0,   0,\n",
       "         0,   0,   0,   0,   0,   0,   0,   0,   0,   0,   0,   0,   0,\n",
       "         0,   0,   0,   0,   0,   0,   0,   0,   0,   0,   0,   0,   0,\n",
       "         0,   0,   0,   0,   0,   0,   0,   0,   0,   0,   0,   0,   0,\n",
       "         0,   0,   0,   0,   0,   0,   0,   0,   0,   0,   0,   0,   0,\n",
       "         0,   0,   0,   0,   0,   0,   0,   0,   0,   0,   0,   0,   0,\n",
       "         0,   0,   0,   0,   0,   0,   0,   0,   0,   0,   0,   0,   0,\n",
       "         0,   0,   0,   0,   0,   0,   0,   0,   0,   0,   0,   0,   0,\n",
       "         0,   0,   0,   0,   0,   0,   0,   0,   0,   0,   0,   0,   0,\n",
       "         0,   0,   0,   0,   0,   0,   0,   0,   0,   0,   0,   0,   0,\n",
       "         0,   0,   0,   0,   0,   0,   0,   0,   0,   0,   0,   0,   0,\n",
       "         0])"
      ]
     },
     "execution_count": 10,
     "metadata": {},
     "output_type": "execute_result"
    }
   ],
   "source": [
    "train_X = (\n",
    "    list(\n",
    "        map(\n",
    "            lambda x: np.pad(x, (0, diag_len-len(x))), \n",
    "            train_X\n",
    "        )\n",
    "    )\n",
    ")\n",
    "train_X[0]"
   ]
  },
  {
   "cell_type": "code",
   "execution_count": 11,
   "id": "4d052a91-ef74-4240-a293-6e238a72362c",
   "metadata": {},
   "outputs": [
    {
     "data": {
      "text/plain": [
       "tensor([  1,  24,  20, 166,  63,  64,  37, 106,  24,  20, 202,  25,   0,   0,\n",
       "          0,   0,   0,   0,   0,   0,   0,   0,   0,   0,   0,   0,   0,   0,\n",
       "          0,   0,   0,   0,   0,   0,   0,   0,   0,   0,   0,   0,   0,   0,\n",
       "          0,   0,   0,   0,   0,   0,   0,   0,   0,   0,   0,   0,   0,   0,\n",
       "          0,   0,   0,   0,   0,   0,   0,   0,   0,   0,   0,   0,   0,   0,\n",
       "          0,   0,   0,   0,   0,   0,   0,   0,   0,   0,   0,   0,   0,   0,\n",
       "          0,   0,   0,   0,   0,   0,   0,   0,   0,   0,   0,   0,   0,   0,\n",
       "          0,   0,   0,   0,   0,   0,   0,   0,   0,   0,   0,   0,   0,   0,\n",
       "          0,   0,   0,   0,   0,   0,   0,   0,   0,   0,   0,   0,   0,   0,\n",
       "          0,   0,   0,   0,   0,   0,   0,   0,   0,   0,   0,   0,   0,   0,\n",
       "          0,   0,   0,   0,   0,   0,   0,   0,   0,   0,   0,   0,   0,   0,\n",
       "          0,   0,   0,   0,   0,   0,   0,   0,   0,   0,   0,   0,   0,   0,\n",
       "          0,   0,   0,   0,   0,   0,   0,   0,   0,   0,   0,   0,   0,   0,\n",
       "          0])"
      ]
     },
     "execution_count": 11,
     "metadata": {},
     "output_type": "execute_result"
    }
   ],
   "source": [
    "train_X = (\n",
    "    list(\n",
    "        map(\n",
    "            lambda x: torch.LongTensor(x), \n",
    "            train_X\n",
    "        )\n",
    "    )\n",
    ")\n",
    "train_X[0]"
   ]
  },
  {
   "cell_type": "code",
   "execution_count": 12,
   "id": "73eef2eb-90db-4603-a4e6-2e94724178e0",
   "metadata": {},
   "outputs": [],
   "source": [
    "train_X = torch.stack(train_X)\n",
    "train_target = train_data.MORTALITY.values.reshape(-1,1)\n",
    "train_target = torch.tensor(train_target).reshape(-1)\n",
    "train_dataloader = TensorDataset(train_X, train_target)"
   ]
  },
  {
   "cell_type": "code",
   "execution_count": 13,
   "id": "a3098fe5-904c-4229-97c2-a8e86f258b20",
   "metadata": {},
   "outputs": [
    {
     "data": {
      "text/plain": [
       "torch.Size([5273])"
      ]
     },
     "execution_count": 13,
     "metadata": {},
     "output_type": "execute_result"
    }
   ],
   "source": [
    "train_target.shape"
   ]
  },
  {
   "cell_type": "code",
   "execution_count": 14,
   "id": "1880761b-af4f-49bd-a89b-b53cbe6ed45a",
   "metadata": {},
   "outputs": [
    {
     "data": {
      "text/plain": [
       "torch.Size([645, 300])"
      ]
     },
     "execution_count": 14,
     "metadata": {},
     "output_type": "execute_result"
    }
   ],
   "source": [
    "word_vectors_for_training = np.insert(\n",
    "    wvmodel.wv.vectors,   \n",
    "    0, \n",
    "    np.random.uniform(wvmodel.wv.vectors.min(),wvmodel.wv.vectors.max(),300),\n",
    "    axis=0\n",
    ")\n",
    "\n",
    "word_vectors_for_training = np.insert(\n",
    "    word_vectors_for_training,   \n",
    "    0, \n",
    "    np.zeros(300),\n",
    "    axis=0\n",
    ")\n",
    "word_vectors_for_training = torch.FloatTensor(word_vectors_for_training)\n",
    "word_vectors_for_training.shape"
   ]
  },
  {
   "cell_type": "code",
   "execution_count": 15,
   "id": "c491eb90-bff7-4725-9030-d6921cb56ffc",
   "metadata": {},
   "outputs": [],
   "source": [
    "class PatientRep(nn.Module):\n",
    "    def __init__(self, weight):\n",
    "        super(PatientRep, self).__init__() \n",
    "        #self.embedding = nn.Embedding(5000, 300)\n",
    "        self.embedding = nn.Embedding.from_pretrained(weight)\n",
    "        self.avgpool = nn.AvgPool1d(300)\n",
    "        self.linear1 = nn.Linear(183, 1024)\n",
    "        self.linear2 = nn.Linear(1024, 1024)\n",
    "        self.linear3 = nn.Linear(1024, 512)\n",
    "        self.linear4 = nn.Linear(512, 256)\n",
    "        self.linear5 = nn.Linear(256, 100)\n",
    "        self.relu = nn.ReLU()\n",
    "        self.output = nn.Linear(100, 1)\n",
    "        self.sigmoid = nn.Sigmoid()\n",
    "        \n",
    "    def rep_learning(self, x):\n",
    "        x = self.avgpool(self.embedding(x))\n",
    "        x = self.relu(self.linear1(torch.squeeze(x)))\n",
    "        x = self.relu(self.linear2(x))\n",
    "        x = self.relu(self.linear3(x))\n",
    "        x = self.relu(self.linear4(x))\n",
    "        x = self.relu(self.linear5(x))\n",
    "        return x\n",
    "        \n",
    "    def forward(self, x):\n",
    "        x = self.rep_learning(x)\n",
    "        x = self.sigmoid(self.output(x))\n",
    "        return torch.squeeze(x)"
   ]
  },
  {
   "cell_type": "code",
   "execution_count": 16,
   "id": "780984dc-f5d8-4d48-8233-c8f777c25052",
   "metadata": {},
   "outputs": [],
   "source": [
    "model = PatientRep(word_vectors_for_training)\n",
    "criterion = nn.BCELoss()\n",
    "optimizer = optim.Adam(model.parameters())\n",
    "\n",
    "device = torch.device(\"cpu\")\n",
    "model.to(device)\n",
    "criterion.to(device)\n",
    "\n",
    "best_val_acc = 0.0\n",
    "train_losses, train_accuracies = [], []\n",
    "valid_losses, valid_accuracies = [], []"
   ]
  },
  {
   "cell_type": "code",
   "execution_count": 17,
   "id": "e08f2503-3558-431b-b4a2-75d05def1987",
   "metadata": {},
   "outputs": [],
   "source": [
    "for i in range(20):\n",
    "    optimizer.zero_grad()\n",
    "    output = model(train_X)\n",
    "    loss = criterion(output, train_target.float())\n",
    "    assert not np.isnan(loss.item()), 'Model diverged with loss = NaN'\n",
    "\n",
    "    loss.backward()\n",
    "    optimizer.step()\n",
    "    train_losses.append(loss.item())\n"
   ]
  },
  {
   "cell_type": "code",
   "execution_count": 18,
   "id": "91dc10bd-3339-4b62-ae96-8b728d883292",
   "metadata": {},
   "outputs": [],
   "source": [
    "import matplotlib.pyplot as plt"
   ]
  },
  {
   "cell_type": "code",
   "execution_count": 19,
   "id": "4fa980c3-a173-465f-92e2-4fe2012c2eeb",
   "metadata": {},
   "outputs": [
    {
     "data": {
      "text/plain": [
       "Text(0.5, 1.0, 'Loss Curve')"
      ]
     },
     "execution_count": 19,
     "metadata": {},
     "output_type": "execute_result"
    },
    {
     "data": {
      "image/png": "[encoded data removed]",
      "text/plain": [
       "<Figure size 432x288 with 1 Axes>"
      ]
     },
     "metadata": {
      "needs_background": "light"
     },
     "output_type": "display_data"
    }
   ],
   "source": [
    "epoches = list(range(len(train_losses)))\n",
    "plt.plot(epoches, train_losses, label = \"Training Loss\")\n",
    "plt.ylabel(\"Loss\")\n",
    "plt.xlabel(\"epoch\")\n",
    "plt.legend()\n",
    "plt.title(\"Loss Curve\")"
   ]
  },
  {
   "cell_type": "code",
   "execution_count": null,
   "id": "a2d64ffc-af96-45ea-9799-7cd8490139b2",
   "metadata": {},
   "outputs": [],
   "source": []
  },
  {
   "cell_type": "code",
   "execution_count": 20,
   "id": "e11472b9-4992-428d-a485-a1884bd59a79",
   "metadata": {},
   "outputs": [],
   "source": [
    "# load test data"
   ]
  },
  {
   "cell_type": "code",
   "execution_count": 21,
   "id": "556f55fa-c514-451a-9169-254445f0fded",
   "metadata": {},
   "outputs": [],
   "source": [
    "test_admission = pd.read_csv(\"./mortality/validation/ADMISSIONS.csv\")\n",
    "test_mortality = pd.read_csv(\"./mortality/validation/MORTALITY.csv\")"
   ]
  },
  {
   "cell_type": "code",
   "execution_count": 22,
   "id": "8ba8a5ed-1845-4fa1-9edb-c4840fc6eb07",
   "metadata": {},
   "outputs": [
    {
     "name": "stderr",
     "output_type": "stream",
     "text": [
      "<ipython-input-22-eb02aa5b2a88>:4: SettingWithCopyWarning: \n",
      "A value is trying to be set on a copy of a slice from a DataFrame\n",
      "\n",
      "See the caveats in the documentation: https://pandas.pydata.org/pandas-docs/stable/user_guide/indexing.html#returning-a-view-versus-a-copy\n",
      "  test_diags.DIAGNOSIS[i] = test_diags.DIAGNOSIS[i].replace('\\\\', ' ').\\\n",
      "/home/xyj/anaconda3/lib/python3.8/site-packages/IPython/core/interactiveshell.py:3437: SettingWithCopyWarning: \n",
      "A value is trying to be set on a copy of a slice from a DataFrame\n",
      "\n",
      "See the caveats in the documentation: https://pandas.pydata.org/pandas-docs/stable/user_guide/indexing.html#returning-a-view-versus-a-copy\n",
      "  exec(code_obj, self.user_global_ns, self.user_ns)\n"
     ]
    },
    {
     "data": {
      "text/html": [
       "<div>\n",
       "<style scoped>\n",
       "    .dataframe tbody tr th:only-of-type {\n",
       "        vertical-align: middle;\n",
       "    }\n",
       "\n",
       "    .dataframe tbody tr th {\n",
       "        vertical-align: top;\n",
       "    }\n",
       "\n",
       "    .dataframe thead th {\n",
       "        text-align: right;\n",
       "    }\n",
       "</style>\n",
       "<table border=\"1\" class=\"dataframe\">\n",
       "  <thead>\n",
       "    <tr style=\"text-align: right;\">\n",
       "      <th></th>\n",
       "      <th>DIAGNOSIS</th>\n",
       "    </tr>\n",
       "    <tr>\n",
       "      <th>SUBJECT_ID</th>\n",
       "      <th></th>\n",
       "    </tr>\n",
       "  </thead>\n",
       "  <tbody>\n",
       "    <tr>\n",
       "      <th>68</th>\n",
       "      <td>PNEUMONIA WEAKNESS</td>\n",
       "    </tr>\n",
       "    <tr>\n",
       "      <th>105</th>\n",
       "      <td>FEVER ORIGIN UNKNOWN DYSRHYTHMIA TELEMETRY FEVER</td>\n",
       "    </tr>\n",
       "    <tr>\n",
       "      <th>117</th>\n",
       "      <td>LIVER FAILURE S P TIPS ENCEPHALOPATHY LIVER FA...</td>\n",
       "    </tr>\n",
       "    <tr>\n",
       "      <th>157</th>\n",
       "      <td>SUBDURAL BLEED SEPSIS</td>\n",
       "    </tr>\n",
       "    <tr>\n",
       "      <th>209</th>\n",
       "      <td>UNSTABLE ANGINA NON-ST SEGMENT ELEVATION MYOCA...</td>\n",
       "    </tr>\n",
       "    <tr>\n",
       "      <th>...</th>\n",
       "      <td>...</td>\n",
       "    </tr>\n",
       "    <tr>\n",
       "      <th>99054</th>\n",
       "      <td>UPPER GI BLEED UPPER GI BLEED</td>\n",
       "    </tr>\n",
       "    <tr>\n",
       "      <th>99088</th>\n",
       "      <td>MALIGNANT NEOPLASM  RIGHT HAND SDA LUNG ABSCES...</td>\n",
       "    </tr>\n",
       "    <tr>\n",
       "      <th>99185</th>\n",
       "      <td>CORONARY ARTERY DISEASE CHRONIC OBST PULM DISE...</td>\n",
       "    </tr>\n",
       "    <tr>\n",
       "      <th>99408</th>\n",
       "      <td>ESOPHAGEAL CANCER SDA SOB</td>\n",
       "    </tr>\n",
       "    <tr>\n",
       "      <th>99783</th>\n",
       "      <td>AORTIC INSUFFICIENCY BENTAL PROCEDURE  SDA RUL...</td>\n",
       "    </tr>\n",
       "  </tbody>\n",
       "</table>\n",
       "<p>754 rows × 1 columns</p>\n",
       "</div>"
      ],
      "text/plain": [
       "                                                    DIAGNOSIS\n",
       "SUBJECT_ID                                                   \n",
       "68                                        PNEUMONIA WEAKNESS \n",
       "105         FEVER ORIGIN UNKNOWN DYSRHYTHMIA TELEMETRY FEVER \n",
       "117         LIVER FAILURE S P TIPS ENCEPHALOPATHY LIVER FA...\n",
       "157                                    SUBDURAL BLEED SEPSIS \n",
       "209         UNSTABLE ANGINA NON-ST SEGMENT ELEVATION MYOCA...\n",
       "...                                                       ...\n",
       "99054                          UPPER GI BLEED UPPER GI BLEED \n",
       "99088       MALIGNANT NEOPLASM  RIGHT HAND SDA LUNG ABSCES...\n",
       "99185       CORONARY ARTERY DISEASE CHRONIC OBST PULM DISE...\n",
       "99408                              ESOPHAGEAL CANCER SDA SOB \n",
       "99783       AORTIC INSUFFICIENCY BENTAL PROCEDURE  SDA RUL...\n",
       "\n",
       "[754 rows x 1 columns]"
      ]
     },
     "execution_count": 22,
     "metadata": {},
     "output_type": "execute_result"
    }
   ],
   "source": [
    "test_diags = test_admission[['SUBJECT_ID', 'DIAGNOSIS']]\n",
    "for i in range(len(test_diags)):\n",
    "    if isinstance(test_diags.DIAGNOSIS[i], str):\n",
    "        test_diags.DIAGNOSIS[i] = test_diags.DIAGNOSIS[i].replace('\\\\', ' ').\\\n",
    "            replace('/', ' ').replace(',', ' ').\\\n",
    "            replace(';', ' ').replace('*', '') + ' '\n",
    "\n",
    "test_diags = test_diags.groupby('SUBJECT_ID').agg('sum')\n",
    "test_diags"
   ]
  },
  {
   "cell_type": "code",
   "execution_count": 23,
   "id": "06e920ac-7403-42ba-be92-514159bb80fc",
   "metadata": {},
   "outputs": [],
   "source": [
    "test_data = pd.merge(test_mortality, test_diags, on='SUBJECT_ID')\n",
    "test_data.DIAGNOSIS = test_data.DIAGNOSIS.apply(lambda x: x if isinstance(x, str) else ' ')"
   ]
  },
  {
   "cell_type": "code",
   "execution_count": 24,
   "id": "7c3fb2e5-0cff-424a-b33c-68ccfe66c7ee",
   "metadata": {},
   "outputs": [
    {
     "data": {
      "text/plain": [
       "68"
      ]
     },
     "execution_count": 24,
     "metadata": {},
     "output_type": "execute_result"
    }
   ],
   "source": [
    "test_diag_len = test_data.DIAGNOSIS.apply(lambda x: x.split(\" \")).apply(len).max()\n",
    "test_diag_len"
   ]
  },
  {
   "cell_type": "code",
   "execution_count": 25,
   "id": "94f6382f-c887-4825-bb04-8f3752ef3818",
   "metadata": {},
   "outputs": [
    {
     "name": "stdout",
     "output_type": "stream",
     "text": [
      "[5, 79, 109, 0]\n"
     ]
    }
   ],
   "source": [
    "test_X = (\n",
    "    test_data\n",
    "    .DIAGNOSIS\n",
    "    .apply(lambda x: list(map(lambda word: word_map[word] if word in word_map else 1, x.split(\" \"))))\n",
    ")\n",
    "print(test_X[0])"
   ]
  },
  {
   "cell_type": "code",
   "execution_count": 26,
   "id": "5d411859-7188-47d0-9236-437123d6fca4",
   "metadata": {},
   "outputs": [
    {
     "data": {
      "text/plain": [
       "tensor([  1,  24,  20, 166,  63,  64,  37, 106,  24,  20, 202,  25,   0,   0,\n",
       "          0,   0,   0,   0,   0,   0,   0,   0,   0,   0,   0,   0,   0,   0,\n",
       "          0,   0,   0,   0,   0,   0,   0,   0,   0,   0,   0,   0,   0,   0,\n",
       "          0,   0,   0,   0,   0,   0,   0,   0,   0,   0,   0,   0,   0,   0,\n",
       "          0,   0,   0,   0,   0,   0,   0,   0,   0,   0,   0,   0,   0,   0,\n",
       "          0,   0,   0,   0,   0,   0,   0,   0,   0,   0,   0,   0,   0,   0,\n",
       "          0,   0,   0,   0,   0,   0,   0,   0,   0,   0,   0,   0,   0,   0,\n",
       "          0,   0,   0,   0,   0,   0,   0,   0,   0,   0,   0,   0,   0,   0,\n",
       "          0,   0,   0,   0,   0,   0,   0,   0,   0,   0,   0,   0,   0,   0,\n",
       "          0,   0,   0,   0,   0,   0,   0,   0,   0,   0,   0,   0,   0,   0,\n",
       "          0,   0,   0,   0,   0,   0,   0,   0,   0,   0,   0,   0,   0,   0,\n",
       "          0,   0,   0,   0,   0,   0,   0,   0,   0,   0,   0,   0,   0,   0,\n",
       "          0,   0,   0,   0,   0,   0,   0,   0,   0,   0,   0,   0,   0,   0,\n",
       "          0])"
      ]
     },
     "execution_count": 26,
     "metadata": {},
     "output_type": "execute_result"
    }
   ],
   "source": [
    "test_X = (\n",
    "    list(\n",
    "        map(\n",
    "            lambda x: np.pad(x, (0, diag_len-len(x))), \n",
    "            test_X\n",
    "        )\n",
    "    )\n",
    ")\n",
    "train_X[0]"
   ]
  },
  {
   "cell_type": "code",
   "execution_count": 27,
   "id": "b22ccc18-5b3c-40e4-b1f8-3a938e5445ce",
   "metadata": {},
   "outputs": [
    {
     "data": {
      "text/plain": [
       "tensor([  5,  79, 109,   0,   0,   0,   0,   0,   0,   0,   0,   0,   0,   0,\n",
       "          0,   0,   0,   0,   0,   0,   0,   0,   0,   0,   0,   0,   0,   0,\n",
       "          0,   0,   0,   0,   0,   0,   0,   0,   0,   0,   0,   0,   0,   0,\n",
       "          0,   0,   0,   0,   0,   0,   0,   0,   0,   0,   0,   0,   0,   0,\n",
       "          0,   0,   0,   0,   0,   0,   0,   0,   0,   0,   0,   0,   0,   0,\n",
       "          0,   0,   0,   0,   0,   0,   0,   0,   0,   0,   0,   0,   0,   0,\n",
       "          0,   0,   0,   0,   0,   0,   0,   0,   0,   0,   0,   0,   0,   0,\n",
       "          0,   0,   0,   0,   0,   0,   0,   0,   0,   0,   0,   0,   0,   0,\n",
       "          0,   0,   0,   0,   0,   0,   0,   0,   0,   0,   0,   0,   0,   0,\n",
       "          0,   0,   0,   0,   0,   0,   0,   0,   0,   0,   0,   0,   0,   0,\n",
       "          0,   0,   0,   0,   0,   0,   0,   0,   0,   0,   0,   0,   0,   0,\n",
       "          0,   0,   0,   0,   0,   0,   0,   0,   0,   0,   0,   0,   0,   0,\n",
       "          0,   0,   0,   0,   0,   0,   0,   0,   0,   0,   0,   0,   0,   0,\n",
       "          0])"
      ]
     },
     "execution_count": 27,
     "metadata": {},
     "output_type": "execute_result"
    }
   ],
   "source": [
    "test_X = (\n",
    "    list(\n",
    "        map(\n",
    "            lambda x: torch.LongTensor(x), \n",
    "            test_X\n",
    "        )\n",
    "    )\n",
    ")\n",
    "test_X[0]"
   ]
  },
  {
   "cell_type": "code",
   "execution_count": 28,
   "id": "f5c37587-2713-4971-806c-0cccb835b40f",
   "metadata": {},
   "outputs": [],
   "source": [
    "test_X = torch.stack(test_X)"
   ]
  },
  {
   "cell_type": "code",
   "execution_count": 29,
   "id": "ea2bc11a-d2f3-4ad3-8cd4-a7a2e621da04",
   "metadata": {},
   "outputs": [
    {
     "data": {
      "text/plain": [
       "PatientRep(\n",
       "  (embedding): Embedding(645, 300)\n",
       "  (avgpool): AvgPool1d(kernel_size=(300,), stride=(300,), padding=(0,))\n",
       "  (linear1): Linear(in_features=183, out_features=1024, bias=True)\n",
       "  (linear2): Linear(in_features=1024, out_features=1024, bias=True)\n",
       "  (linear3): Linear(in_features=1024, out_features=512, bias=True)\n",
       "  (linear4): Linear(in_features=512, out_features=256, bias=True)\n",
       "  (linear5): Linear(in_features=256, out_features=100, bias=True)\n",
       "  (relu): ReLU()\n",
       "  (output): Linear(in_features=100, out_features=1, bias=True)\n",
       "  (sigmoid): Sigmoid()\n",
       ")"
      ]
     },
     "execution_count": 29,
     "metadata": {},
     "output_type": "execute_result"
    }
   ],
   "source": [
    "model.eval()"
   ]
  },
  {
   "cell_type": "code",
   "execution_count": 30,
   "id": "aea5eab4-d5d9-4d78-87f7-61bddf72ac5d",
   "metadata": {},
   "outputs": [],
   "source": [
    "res = model.rep_learning(test_X)"
   ]
  },
  {
   "cell_type": "code",
   "execution_count": 31,
   "id": "31651d20-e501-4040-b54a-8f2e4d57e0fd",
   "metadata": {},
   "outputs": [],
   "source": [
    "res = res.detach().numpy()"
   ]
  },
  {
   "cell_type": "code",
   "execution_count": 32,
   "id": "248939a6-b27a-4cf9-8c93-a8ec0e269d87",
   "metadata": {},
   "outputs": [
    {
     "data": {
      "text/plain": [
       "array([[0.        , 0.        , 0.1300804 , ..., 0.        , 0.22907461,\n",
       "        0.42990088],\n",
       "       [0.        , 0.        , 0.13007194, ..., 0.        , 0.22909449,\n",
       "        0.42993116],\n",
       "       [0.        , 0.        , 0.13009103, ..., 0.        , 0.22908126,\n",
       "        0.42991668],\n",
       "       ...,\n",
       "       [0.        , 0.        , 0.13003579, ..., 0.        , 0.22902359,\n",
       "        0.42981014],\n",
       "       [0.        , 0.        , 0.13014123, ..., 0.        , 0.22913952,\n",
       "        0.43002594],\n",
       "       [0.        , 0.        , 0.1308405 , ..., 0.        , 0.2299138 ,\n",
       "        0.4314874 ]], dtype=float32)"
      ]
     },
     "execution_count": 32,
     "metadata": {},
     "output_type": "execute_result"
    }
   ],
   "source": [
    "res"
   ]
  },
  {
   "cell_type": "code",
   "execution_count": 33,
   "id": "2e77626a-ef7f-485d-a59a-1999a94907ec",
   "metadata": {},
   "outputs": [],
   "source": [
    "from sklearn.cluster import KMeans\n",
    "from sklearn.preprocessing import StandardScaler"
   ]
  },
  {
   "cell_type": "code",
   "execution_count": 34,
   "id": "c34b7754-8b32-4c63-8791-ce4c469429bc",
   "metadata": {},
   "outputs": [],
   "source": [
    "scaler = StandardScaler()\n",
    "scaled_features = scaler.fit_transform(res)"
   ]
  },
  {
   "cell_type": "code",
   "execution_count": 35,
   "id": "6ad4e91a-e713-4378-ad2a-d375cd81eb0f",
   "metadata": {},
   "outputs": [
    {
     "data": {
      "text/html": [
       "<style>#sk-container-id-1 {color: black;background-color: white;}#sk-container-id-1 pre{padding: 0;}#sk-container-id-1 div.sk-toggleable {background-color: white;}#sk-container-id-1 label.sk-toggleable__label {cursor: pointer;display: block;width: 100%;margin-bottom: 0;padding: 0.3em;box-sizing: border-box;text-align: center;}#sk-container-id-1 label.sk-toggleable__label-arrow:before {content: \"▸\";float: left;margin-right: 0.25em;color: #696969;}#sk-container-id-1 label.sk-toggleable__label-arrow:hover:before {color: black;}#sk-container-id-1 div.sk-estimator:hover label.sk-toggleable__label-arrow:before {color: black;}#sk-container-id-1 div.sk-toggleable__content {max-height: 0;max-width: 0;overflow: hidden;text-align: left;background-color: #f0f8ff;}#sk-container-id-1 div.sk-toggleable__content pre {margin: 0.2em;color: black;border-radius: 0.25em;background-color: #f0f8ff;}#sk-container-id-1 input.sk-toggleable__control:checked~div.sk-toggleable__content {max-height: 200px;max-width: 100%;overflow: auto;}#sk-container-id-1 input.sk-toggleable__control:checked~label.sk-toggleable__label-arrow:before {content: \"▾\";}#sk-container-id-1 div.sk-estimator input.sk-toggleable__control:checked~label.sk-toggleable__label {background-color: #d4ebff;}#sk-container-id-1 div.sk-label input.sk-toggleable__control:checked~label.sk-toggleable__label {background-color: #d4ebff;}#sk-container-id-1 input.sk-hidden--visually {border: 0;clip: rect(1px 1px 1px 1px);clip: rect(1px, 1px, 1px, 1px);height: 1px;margin: -1px;overflow: hidden;padding: 0;position: absolute;width: 1px;}#sk-container-id-1 div.sk-estimator {font-family: monospace;background-color: #f0f8ff;border: 1px dotted black;border-radius: 0.25em;box-sizing: border-box;margin-bottom: 0.5em;}#sk-container-id-1 div.sk-estimator:hover {background-color: #d4ebff;}#sk-container-id-1 div.sk-parallel-item::after {content: \"\";width: 100%;border-bottom: 1px solid gray;flex-grow: 1;}#sk-container-id-1 div.sk-label:hover label.sk-toggleable__label {background-color: #d4ebff;}#sk-container-id-1 div.sk-serial::before {content: \"\";position: absolute;border-left: 1px solid gray;box-sizing: border-box;top: 0;bottom: 0;left: 50%;z-index: 0;}#sk-container-id-1 div.sk-serial {display: flex;flex-direction: column;align-items: center;background-color: white;padding-right: 0.2em;padding-left: 0.2em;position: relative;}#sk-container-id-1 div.sk-item {position: relative;z-index: 1;}#sk-container-id-1 div.sk-parallel {display: flex;align-items: stretch;justify-content: center;background-color: white;position: relative;}#sk-container-id-1 div.sk-item::before, #sk-container-id-1 div.sk-parallel-item::before {content: \"\";position: absolute;border-left: 1px solid gray;box-sizing: border-box;top: 0;bottom: 0;left: 50%;z-index: -1;}#sk-container-id-1 div.sk-parallel-item {display: flex;flex-direction: column;z-index: 1;position: relative;background-color: white;}#sk-container-id-1 div.sk-parallel-item:first-child::after {align-self: flex-end;width: 50%;}#sk-container-id-1 div.sk-parallel-item:last-child::after {align-self: flex-start;width: 50%;}#sk-container-id-1 div.sk-parallel-item:only-child::after {width: 0;}#sk-container-id-1 div.sk-dashed-wrapped {border: 1px dashed gray;margin: 0 0.4em 0.5em 0.4em;box-sizing: border-box;padding-bottom: 0.4em;background-color: white;}#sk-container-id-1 div.sk-label label {font-family: monospace;font-weight: bold;display: inline-block;line-height: 1.2em;}#sk-container-id-1 div.sk-label-container {text-align: center;}#sk-container-id-1 div.sk-container {/* jupyter's `normalize.less` sets `[hidden] { display: none; }` but bootstrap.min.css set `[hidden] { display: none !important; }` so we also need the `!important` here to be able to override the default hidden behavior on the sphinx rendered scikit-learn.org. See: https://github.com/scikit-learn/scikit-learn/issues/21755 */display: inline-block !important;position: relative;}#sk-container-id-1 div.sk-text-repr-fallback {display: none;}</style><div id=\"sk-container-id-1\" class=\"sk-top-container\"><div class=\"sk-text-repr-fallback\"><pre>KMeans(init=&#x27;random&#x27;, n_clusters=2, random_state=42)</pre><b>In a Jupyter environment, please rerun this cell to show the HTML representation or trust the notebook. <br />On GitHub, the HTML representation is unable to render, please try loading this page with nbviewer.org.</b></div><div class=\"sk-container\" hidden><div class=\"sk-item\"><div class=\"sk-estimator sk-toggleable\"><input class=\"sk-toggleable__control sk-hidden--visually\" id=\"sk-estimator-id-1\" type=\"checkbox\" checked><label for=\"sk-estimator-id-1\" class=\"sk-toggleable__label sk-toggleable__label-arrow\">KMeans</label><div class=\"sk-toggleable__content\"><pre>KMeans(init=&#x27;random&#x27;, n_clusters=2, random_state=42)</pre></div></div></div></div></div>"
      ],
      "text/plain": [
       "KMeans(init='random', n_clusters=2, random_state=42)"
      ]
     },
     "execution_count": 35,
     "metadata": {},
     "output_type": "execute_result"
    }
   ],
   "source": [
    "kmeans = KMeans(init=\"random\",n_clusters=2,n_init=10,max_iter=300,random_state=42)\n",
    "kmeans.fit(scaled_features)"
   ]
  },
  {
   "cell_type": "code",
   "execution_count": 37,
   "id": "026bf273-fa12-4875-aae4-ed4a7821da2f",
   "metadata": {},
   "outputs": [
    {
     "data": {
      "text/plain": [
       "array([0, 0, 1, 1, 0, 1, 1, 1, 1, 1, 0, 1, 1, 0, 1, 1, 1, 1, 1, 0, 0, 0,\n",
       "       1, 0, 0, 1, 0, 1, 0, 1, 0, 0, 0, 1, 1, 1, 1, 1, 1, 0, 1, 0, 0, 1,\n",
       "       0, 0, 0, 0, 1, 0, 1, 1, 1, 1, 0, 0, 1, 1, 1, 0, 0, 0, 0, 0, 0, 0,\n",
       "       1, 0, 1, 1, 1, 1, 1, 1, 1, 1, 1, 1, 1, 1, 1, 1, 1, 1, 0, 0, 0, 1,\n",
       "       0, 1, 1, 1, 0, 1, 1, 0, 1, 1, 1, 1, 0, 1, 1, 0, 0, 0, 1, 1, 1, 1,\n",
       "       1, 0, 1, 0, 1, 0, 1, 1, 1, 1, 0, 1, 1, 1, 0, 1, 0, 1, 0, 1, 1, 0,\n",
       "       1, 0, 1, 1, 1, 0, 1, 1, 0, 0, 0, 1, 0, 1, 1, 1, 0, 0, 0, 1, 1, 1,\n",
       "       0, 0, 1, 0, 1, 1, 1, 1, 0, 1, 0, 1, 0, 1, 1, 0, 1, 1, 1, 0, 0, 1,\n",
       "       1, 1, 0, 0, 1, 0, 0, 0, 0, 1, 0, 1, 1, 1, 0, 1, 1, 0, 1, 0, 1, 1,\n",
       "       1, 0, 0, 0, 1, 0, 1, 1, 0, 0, 0, 1, 1, 1, 1, 1, 1, 1, 1, 1, 1, 1,\n",
       "       1, 1, 0, 0, 0, 1, 0, 1, 1, 1, 0, 1, 1, 1, 1, 1, 1, 0, 0, 1, 1, 1,\n",
       "       0, 0, 1, 0, 0, 0, 1, 1, 1, 1, 0, 1, 1, 1, 0, 1, 1, 0, 0, 1, 1, 1,\n",
       "       0, 1, 1, 1, 0, 1, 1, 0, 1, 1, 1, 0, 0, 1, 1, 1, 1, 0, 1, 0, 1, 0,\n",
       "       0, 1, 0, 1, 0, 1, 0, 1, 1, 1, 1, 1, 1, 0, 0, 0, 0, 1, 0, 0, 0, 1,\n",
       "       1, 0, 1, 1, 0, 1, 0, 1, 1, 0, 1, 1, 1, 1, 1, 1, 0, 0, 1, 1, 0, 1,\n",
       "       0, 1, 0, 1, 0, 1, 0, 0, 1, 0, 0, 0, 1, 1, 0, 1, 1, 0, 1, 1, 1, 0,\n",
       "       1, 0, 1, 0, 0, 1, 1, 1, 1, 0, 0, 1, 1, 1, 1, 1, 1, 1, 1, 0, 1, 1,\n",
       "       1, 0, 0, 0, 1, 1, 1, 0, 1, 1, 1, 0, 0, 1, 1, 1, 0, 0, 1, 1, 1, 1,\n",
       "       1, 0, 1, 1, 1, 1, 1, 0, 0, 1, 0, 1, 1, 1, 0, 0, 0, 0, 1, 0, 1, 1,\n",
       "       1, 0, 0, 1, 1, 0, 1, 1, 0, 1, 1, 1, 1, 0, 1, 1, 1, 0, 1, 1, 1, 1,\n",
       "       0, 1, 1, 1, 0, 1, 0, 0, 0, 1, 1, 1, 1, 1, 0, 1, 1, 1, 1, 0, 1, 1,\n",
       "       1, 1, 0, 1, 0, 1, 0, 1, 0, 1, 0, 1, 1, 0, 1, 1, 1, 0, 0, 0, 1, 0,\n",
       "       0, 1, 1, 1, 1, 0, 1, 1, 0, 1, 1, 0, 0, 1, 1, 0, 1, 0, 1, 1, 1, 0,\n",
       "       0, 0, 1, 1, 0, 0, 0, 0, 1, 1, 1, 0, 0, 0, 0, 0, 1, 1, 0, 0, 1, 1,\n",
       "       0, 0, 1, 0, 1, 1, 0, 0, 1, 1, 0, 1, 1, 1, 1, 1, 1, 1, 1, 0, 0, 1,\n",
       "       1, 1, 1, 0, 1, 1, 0, 0, 0, 0, 1, 1, 0, 0, 1, 1, 1, 0, 1, 0, 0, 1,\n",
       "       1, 1, 1, 1, 0, 1, 0, 1, 1, 0, 1, 1, 0, 1, 0, 0, 1, 1, 1, 1, 1, 0,\n",
       "       1, 0, 1, 1, 1, 0, 1, 1, 1, 1, 0, 1, 0, 1, 0, 1, 1, 1, 1, 0, 0, 1,\n",
       "       0, 1, 0, 1, 1, 0, 0, 1, 0, 1, 0, 1, 1, 1, 0, 0, 1, 1, 1, 1, 1, 1,\n",
       "       1, 1, 1, 1, 0, 0, 0, 0, 1, 1, 0, 1, 1, 1, 1, 1, 1, 0, 1, 1, 0, 1,\n",
       "       1, 0, 1, 0, 1, 1, 1, 0, 1, 1, 1, 1, 0, 0, 0, 0, 1, 1, 1, 1, 1, 1,\n",
       "       0, 1, 0, 1, 0, 0, 1, 1, 0, 0, 1, 1, 1, 1, 1, 0, 1, 0, 1, 1, 1, 1,\n",
       "       0, 1, 0, 1, 1, 0, 1, 1, 1, 0, 1, 0, 0, 0, 1, 1, 1, 1, 0, 1, 1, 1,\n",
       "       1, 1, 1, 1, 1, 0, 0, 0, 1, 1, 1, 1, 1, 1, 0, 0, 1, 1, 1, 1, 1, 1,\n",
       "       0, 0, 1, 1, 1, 1])"
      ]
     },
     "execution_count": 37,
     "metadata": {},
     "output_type": "execute_result"
    }
   ],
   "source": [
    "test_target = test_data.MORTALITY.values\n",
    "test_target"
   ]
  },
  {
   "cell_type": "code",
   "execution_count": 38,
   "id": "a00e9526-dcce-4007-b190-784b5aaaf930",
   "metadata": {},
   "outputs": [
    {
     "data": {
      "image/png": "[encoded data removed]",
      "text/plain": [
       "<Figure size 432x288 with 2 Axes>"
      ]
     },
     "metadata": {
      "needs_background": "light"
     },
     "output_type": "display_data"
    }
   ],
   "source": [
    "from sklearn.metrics import confusion_matrix\n",
    "from sklearn.metrics import ConfusionMatrixDisplay\n",
    "cm = confusion_matrix(test_target, kmeans.labels_)\n",
    "disp = ConfusionMatrixDisplay(confusion_matrix=cm, display_labels=['0', '1'])\n",
    "disp = disp.plot(xticks_rotation='vertical', cmap=\"Blues\")\n",
    "plt.xlabel(\"Predicted\")\n",
    "plt.ylabel(\"True\")\n",
    "plt.title(\"Normalized Confusion Matrix\")\n",
    "plt.show()"
   ]
  },
  {
   "cell_type": "code",
   "execution_count": 61,
   "id": "d1a06c57-8525-4951-b28b-f25a316682f0",
   "metadata": {},
   "outputs": [
    {
     "data": {
      "text/plain": [
       "0.5107809258104629"
      ]
     },
     "execution_count": 61,
     "metadata": {},
     "output_type": "execute_result"
    }
   ],
   "source": [
    "from sklearn.metrics import accuracy_score\n",
    "from sklearn.metrics.cluster import rand_score\n",
    "rand_score(kmeans.labels_, test_target)\n"
   ]
  },
  {
   "cell_type": "code",
   "execution_count": 62,
   "id": "e0f7c3c3-bbad-4dd4-bb59-a15bceee0791",
   "metadata": {},
   "outputs": [
    {
     "data": {
      "text/plain": [
       "0.5107809258104629"
      ]
     },
     "execution_count": 62,
     "metadata": {},
     "output_type": "execute_result"
    }
   ],
   "source": [
    "rand_score((kmeans.labels_-1)**2, test_target)"
   ]
  },
  {
   "cell_type": "code",
   "execution_count": 41,
   "id": "ac60f559-b2ff-45d8-ab95-6b8eb44d664c",
   "metadata": {},
   "outputs": [],
   "source": [
    "from sklearn.decomposition import PCA\n",
    "pca = PCA(n_components=10)\n",
    "pcs = pca.fit_transform(scaled_features)\n"
   ]
  },
  {
   "cell_type": "code",
   "execution_count": 81,
   "id": "35ac3117-956e-4688-bea7-416e13f05d03",
   "metadata": {},
   "outputs": [
    {
     "name": "stderr",
     "output_type": "stream",
     "text": [
      "/home/xyj/anaconda3/lib/python3.8/site-packages/sklearn/manifold/_spectral_embedding.py:259: UserWarning: Graph is not fully connected, spectral embedding may not work as expected.\n",
      "  warnings.warn(\n",
      "/home/xyj/anaconda3/lib/python3.8/site-packages/sklearn/manifold/_spectral_embedding.py:259: UserWarning: Graph is not fully connected, spectral embedding may not work as expected.\n",
      "  warnings.warn(\n",
      "/home/xyj/anaconda3/lib/python3.8/site-packages/sklearn/manifold/_spectral_embedding.py:259: UserWarning: Graph is not fully connected, spectral embedding may not work as expected.\n",
      "  warnings.warn(\n",
      "/home/xyj/anaconda3/lib/python3.8/site-packages/sklearn/manifold/_spectral_embedding.py:259: UserWarning: Graph is not fully connected, spectral embedding may not work as expected.\n",
      "  warnings.warn(\n",
      "/home/xyj/anaconda3/lib/python3.8/site-packages/sklearn/manifold/_spectral_embedding.py:259: UserWarning: Graph is not fully connected, spectral embedding may not work as expected.\n",
      "  warnings.warn(\n",
      "/home/xyj/anaconda3/lib/python3.8/site-packages/sklearn/manifold/_spectral_embedding.py:259: UserWarning: Graph is not fully connected, spectral embedding may not work as expected.\n",
      "  warnings.warn(\n",
      "/home/xyj/anaconda3/lib/python3.8/site-packages/sklearn/manifold/_spectral_embedding.py:259: UserWarning: Graph is not fully connected, spectral embedding may not work as expected.\n",
      "  warnings.warn(\n",
      "/home/xyj/anaconda3/lib/python3.8/site-packages/sklearn/manifold/_spectral_embedding.py:259: UserWarning: Graph is not fully connected, spectral embedding may not work as expected.\n",
      "  warnings.warn(\n",
      "/home/xyj/anaconda3/lib/python3.8/site-packages/sklearn/manifold/_spectral_embedding.py:259: UserWarning: Graph is not fully connected, spectral embedding may not work as expected.\n",
      "  warnings.warn(\n",
      "/home/xyj/anaconda3/lib/python3.8/site-packages/sklearn/manifold/_spectral_embedding.py:259: UserWarning: Graph is not fully connected, spectral embedding may not work as expected.\n",
      "  warnings.warn(\n",
      "/home/xyj/anaconda3/lib/python3.8/site-packages/sklearn/manifold/_spectral_embedding.py:259: UserWarning: Graph is not fully connected, spectral embedding may not work as expected.\n",
      "  warnings.warn(\n",
      "/home/xyj/anaconda3/lib/python3.8/site-packages/sklearn/manifold/_spectral_embedding.py:259: UserWarning: Graph is not fully connected, spectral embedding may not work as expected.\n",
      "  warnings.warn(\n",
      "/home/xyj/anaconda3/lib/python3.8/site-packages/sklearn/manifold/_spectral_embedding.py:259: UserWarning: Graph is not fully connected, spectral embedding may not work as expected.\n",
      "  warnings.warn(\n",
      "/home/xyj/anaconda3/lib/python3.8/site-packages/sklearn/manifold/_spectral_embedding.py:259: UserWarning: Graph is not fully connected, spectral embedding may not work as expected.\n",
      "  warnings.warn(\n",
      "/home/xyj/anaconda3/lib/python3.8/site-packages/sklearn/manifold/_spectral_embedding.py:259: UserWarning: Graph is not fully connected, spectral embedding may not work as expected.\n",
      "  warnings.warn(\n",
      "/home/xyj/anaconda3/lib/python3.8/site-packages/sklearn/manifold/_spectral_embedding.py:259: UserWarning: Graph is not fully connected, spectral embedding may not work as expected.\n",
      "  warnings.warn(\n",
      "/home/xyj/anaconda3/lib/python3.8/site-packages/sklearn/manifold/_spectral_embedding.py:259: UserWarning: Graph is not fully connected, spectral embedding may not work as expected.\n",
      "  warnings.warn(\n",
      "/home/xyj/anaconda3/lib/python3.8/site-packages/sklearn/manifold/_spectral_embedding.py:259: UserWarning: Graph is not fully connected, spectral embedding may not work as expected.\n",
      "  warnings.warn(\n",
      "/home/xyj/anaconda3/lib/python3.8/site-packages/sklearn/manifold/_spectral_embedding.py:259: UserWarning: Graph is not fully connected, spectral embedding may not work as expected.\n",
      "  warnings.warn(\n",
      "/home/xyj/anaconda3/lib/python3.8/site-packages/sklearn/manifold/_spectral_embedding.py:259: UserWarning: Graph is not fully connected, spectral embedding may not work as expected.\n",
      "  warnings.warn(\n",
      "/home/xyj/anaconda3/lib/python3.8/site-packages/sklearn/manifold/_spectral_embedding.py:259: UserWarning: Graph is not fully connected, spectral embedding may not work as expected.\n",
      "  warnings.warn(\n",
      "/home/xyj/anaconda3/lib/python3.8/site-packages/sklearn/manifold/_spectral_embedding.py:259: UserWarning: Graph is not fully connected, spectral embedding may not work as expected.\n",
      "  warnings.warn(\n",
      "/home/xyj/anaconda3/lib/python3.8/site-packages/sklearn/manifold/_spectral_embedding.py:259: UserWarning: Graph is not fully connected, spectral embedding may not work as expected.\n",
      "  warnings.warn(\n"
     ]
    }
   ],
   "source": [
    "n = list(range(2, 25))\n",
    "scores = []\n",
    "for i in n:\n",
    "    pca = PCA(n_components=i)\n",
    "    pcs = pca.fit_transform(scaled_features)\n",
    "    sc = SpectralClustering(2, n_init=100,assign_labels='discretize')\n",
    "    w = sc.fit_predict(pcs)\n",
    "    s1 = accuracy_score(w, test_target)\n",
    "    s2 = accuracy_score((w-1)**2, test_target)\n",
    "    scores.append([i, max(s1, s2)])"
   ]
  },
  {
   "cell_type": "code",
   "execution_count": 83,
   "id": "e772665d-c616-4abe-a6e7-2309ef6d3a54",
   "metadata": {},
   "outputs": [
    {
     "data": {
      "text/plain": [
       "Text(0.5, 1.0, 'Accuracy Scores')"
      ]
     },
     "execution_count": 83,
     "metadata": {},
     "output_type": "execute_result"
    },
    {
     "data": {
      "image/png": "[encoded data removed]",
      "text/plain": [
       "<Figure size 432x288 with 1 Axes>"
      ]
     },
     "metadata": {
      "needs_background": "light"
     },
     "output_type": "display_data"
    }
   ],
   "source": [
    "plt.plot(n, [s[1] for s in scores], label = \"SpectralClustering\")\n",
    "plt.ylabel(\"Accuracy\")\n",
    "plt.xlabel(\"dim\")\n",
    "plt.legend()\n",
    "plt.title(\"Accuracy Scores\")"
   ]
  },
  {
   "cell_type": "code",
   "execution_count": null,
   "id": "ce511371-8060-4df4-9555-90a7b6f0dff7",
   "metadata": {},
   "outputs": [],
   "source": []
  },
  {
   "cell_type": "code",
   "execution_count": null,
   "id": "7d4fb236-f02a-4f57-9fd0-26cef524aef9",
   "metadata": {},
   "outputs": [],
   "source": []
  },
  {
   "cell_type": "code",
   "execution_count": 86,
   "id": "d4615baf-e68e-4230-afcb-b8cd4bf991a6",
   "metadata": {},
   "outputs": [],
   "source": [
    "from sklearn.cluster import BisectingKMeans\n",
    "n = list(range(2, 25))\n",
    "scores = []\n",
    "for i in n:\n",
    "    pca = PCA(n_components=i)\n",
    "    pcs = pca.fit_transform(scaled_features)\n",
    "    bi = BisectingKMeans(2)\n",
    "    w = bi.fit_predict(pcs)\n",
    "    s1 = accuracy_score(w, test_target)\n",
    "    s2 = accuracy_score((w-1)**2, test_target)\n",
    "    scores.append([i, max(s1, s2)])"
   ]
  },
  {
   "cell_type": "code",
   "execution_count": 87,
   "id": "e768a9af-7715-4ab4-b89e-9dee2aeebcf9",
   "metadata": {},
   "outputs": [
    {
     "data": {
      "text/plain": [
       "Text(0.5, 1.0, 'Accuracy Scores')"
      ]
     },
     "execution_count": 87,
     "metadata": {},
     "output_type": "execute_result"
    },
    {
     "data": {
      "image/png": "[encoded data removed]",
      "text/plain": [
       "<Figure size 432x288 with 1 Axes>"
      ]
     },
     "metadata": {
      "needs_background": "light"
     },
     "output_type": "display_data"
    }
   ],
   "source": [
    "plt.plot(n, [s[1] for s in scores], label = \"Accuracy Scores for BKM\")\n",
    "plt.ylabel(\"Accuracy\")\n",
    "plt.xlabel(\"dim\")\n",
    "plt.legend()\n",
    "plt.title(\"Accuracy Scores\")"
   ]
  },
  {
   "cell_type": "code",
   "execution_count": null,
   "id": "9b5b5f8f-7fd3-4fde-a75e-75179eaae186",
   "metadata": {},
   "outputs": [],
   "source": []
  },
  {
   "cell_type": "code",
   "execution_count": null,
   "id": "546a148b-d944-4a6c-b90e-f906e8a7e6ce",
   "metadata": {},
   "outputs": [],
   "source": []
  },
  {
   "cell_type": "code",
   "execution_count": null,
   "id": "d8e810dd-6a21-4265-8b78-3683a7fe8b68",
   "metadata": {},
   "outputs": [],
   "source": []
  },
  {
   "cell_type": "code",
   "execution_count": 71,
   "id": "f6f99b60-39c8-4f61-ba6c-6e92ab80cc1b",
   "metadata": {},
   "outputs": [],
   "source": [
    "from sklearn.cluster import KMeans\n",
    "n = list(range(2, 25))\n",
    "scores = []\n",
    "for i in n:\n",
    "    pca = PCA(n_components=i)\n",
    "    pcs = pca.fit_transform(scaled_features)\n",
    "    km = KMeans(2)\n",
    "    w = km.fit_predict(pcs)\n",
    "    s1 = accuracy_score(w, test_target)\n",
    "    s2 = accuracy_score((w-1)**2, test_target)\n",
    "    scores.append([i, max(s1, s2)])"
   ]
  },
  {
   "cell_type": "code",
   "execution_count": 72,
   "id": "269b03e7-6757-4432-9b2c-78b6d87f83dc",
   "metadata": {},
   "outputs": [
    {
     "data": {
      "text/plain": [
       "Text(0.5, 1.0, 'Accuracy Scores')"
      ]
     },
     "execution_count": 72,
     "metadata": {},
     "output_type": "execute_result"
    },
    {
     "data": {
      "image/png": "[encoded data removed]",
      "text/plain": [
       "<Figure size 432x288 with 1 Axes>"
      ]
     },
     "metadata": {
      "needs_background": "light"
     },
     "output_type": "display_data"
    }
   ],
   "source": [
    "plt.plot(n, [s[1] for s in scores], label = \"Accuracy Scores for KMeans\")\n",
    "plt.ylabel(\"Accuracy\")\n",
    "plt.xlabel(\"dim\")\n",
    "plt.legend()\n",
    "plt.title(\"Accuracy Scores\")"
   ]
  },
  {
   "cell_type": "code",
   "execution_count": null,
   "id": "e1bfe300-bbbc-41ba-bad6-23d132ef3b67",
   "metadata": {},
   "outputs": [],
   "source": []
  },
  {
   "cell_type": "code",
   "execution_count": null,
   "id": "47cefcc0-dfde-433e-9b1d-e15a3932ba31",
   "metadata": {},
   "outputs": [],
   "source": []
  },
  {
   "cell_type": "code",
   "execution_count": null,
   "id": "2b3cbced-e063-4c57-aa1f-9fd7095bbd5f",
   "metadata": {},
   "outputs": [],
   "source": []
  }
 ],
 "metadata": {
  "kernelspec": {
   "display_name": "Python 3",
   "language": "python",
   "name": "python3"
  },
  "language_info": {
   "codemirror_mode": {
    "name": "ipython",
    "version": 3
   },
   "file_extension": ".py",
   "mimetype": "text/x-python",
   "name": "python",
   "nbconvert_exporter": "python",
   "pygments_lexer": "ipython3",
   "version": "3.8.8"
  }
 },
 "nbformat": 4,
 "nbformat_minor": 5
}
