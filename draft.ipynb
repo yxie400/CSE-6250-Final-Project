{
 "cells": [
  {
   "cell_type": "code",
   "execution_count": 35,
   "id": "90d65294-13fa-4ec8-ad74-7b96e3674002",
   "metadata": {},
   "outputs": [],
   "source": [
    "import torch\n",
    "import torch.nn as nn\n",
    "from torch.utils.data import TensorDataset, Dataset, DataLoader\n",
    "import torch.optim as optim\n",
    "import os\n",
    "import time\n",
    "import numpy as np\n",
    "import pandas as pd\n",
    "#!pip install gensim\n",
    "import gensim"
   ]
  },
  {
   "cell_type": "code",
   "execution_count": 33,
   "id": "cf52ea0e-786b-49ae-b237-6fa1d88cb263",
   "metadata": {},
   "outputs": [],
   "source": [
    "PATH_OUTPUT = \"./\""
   ]
  },
  {
   "cell_type": "code",
   "execution_count": 183,
   "id": "1086a326-66dc-418d-9ea9-7e7a1abf283e",
   "metadata": {},
   "outputs": [],
   "source": [
    "admission = pd.read_csv(\"./mortality/train/ADMISSIONS.csv\")\n",
    "mortality = pd.read_csv(\"./mortality/train/MORTALITY.csv\")"
   ]
  },
  {
   "cell_type": "code",
   "execution_count": 184,
   "id": "c946d193-d12c-4093-a426-54e306af1ce5",
   "metadata": {},
   "outputs": [
    {
     "name": "stderr",
     "output_type": "stream",
     "text": [
      "<ipython-input-184-5a66503d78b6>:4: SettingWithCopyWarning: \n",
      "A value is trying to be set on a copy of a slice from a DataFrame\n",
      "\n",
      "See the caveats in the documentation: https://pandas.pydata.org/pandas-docs/stable/user_guide/indexing.html#returning-a-view-versus-a-copy\n",
      "  diags.DIAGNOSIS[i] = diags.DIAGNOSIS[i].replace('\\\\', ' ').\\\n",
      "/home/xyj/anaconda3/lib/python3.8/site-packages/IPython/core/interactiveshell.py:3437: SettingWithCopyWarning: \n",
      "A value is trying to be set on a copy of a slice from a DataFrame\n",
      "\n",
      "See the caveats in the documentation: https://pandas.pydata.org/pandas-docs/stable/user_guide/indexing.html#returning-a-view-versus-a-copy\n",
      "  exec(code_obj, self.user_global_ns, self.user_ns)\n"
     ]
    },
    {
     "data": {
      "text/html": [
       "<div>\n",
       "<style scoped>\n",
       "    .dataframe tbody tr th:only-of-type {\n",
       "        vertical-align: middle;\n",
       "    }\n",
       "\n",
       "    .dataframe tbody tr th {\n",
       "        vertical-align: top;\n",
       "    }\n",
       "\n",
       "    .dataframe thead th {\n",
       "        text-align: right;\n",
       "    }\n",
       "</style>\n",
       "<table border=\"1\" class=\"dataframe\">\n",
       "  <thead>\n",
       "    <tr style=\"text-align: right;\">\n",
       "      <th></th>\n",
       "      <th>DIAGNOSIS</th>\n",
       "    </tr>\n",
       "    <tr>\n",
       "      <th>SUBJECT_ID</th>\n",
       "      <th></th>\n",
       "    </tr>\n",
       "  </thead>\n",
       "  <tbody>\n",
       "    <tr>\n",
       "      <th>17</th>\n",
       "      <td>PATIENT FORAMEN OVALE  PATENT FORAMEN OVALE MI...</td>\n",
       "    </tr>\n",
       "    <tr>\n",
       "      <th>21</th>\n",
       "      <td>CONGESTIVE HEART FAILURE SEPSIS</td>\n",
       "    </tr>\n",
       "    <tr>\n",
       "      <th>23</th>\n",
       "      <td>CORONARY ARTERY DISEASE CORONARY ARTERY BYPASS...</td>\n",
       "    </tr>\n",
       "    <tr>\n",
       "      <th>34</th>\n",
       "      <td>CHEST PAIN CATH BRADYCARDIA</td>\n",
       "    </tr>\n",
       "    <tr>\n",
       "      <th>36</th>\n",
       "      <td>CORONARY ARTERY DISEASE CORONARY ARTERY BYPASS...</td>\n",
       "    </tr>\n",
       "    <tr>\n",
       "      <th>...</th>\n",
       "      <td>...</td>\n",
       "    </tr>\n",
       "    <tr>\n",
       "      <th>99781</th>\n",
       "      <td>MOTOR VEHICLE ACCIDENT WITH UNSPECIFIED INJURI...</td>\n",
       "    </tr>\n",
       "    <tr>\n",
       "      <th>99822</th>\n",
       "      <td>SQUAMOUS CELL CANCER HYPONATREMIA DIARRHEA</td>\n",
       "    </tr>\n",
       "    <tr>\n",
       "      <th>99883</th>\n",
       "      <td>CARDIOMYOPATHY CARDIAC CATH CORONARY ARTERY DI...</td>\n",
       "    </tr>\n",
       "    <tr>\n",
       "      <th>99923</th>\n",
       "      <td>HYPONATREMIA END STAGE LIVER DISEASE</td>\n",
       "    </tr>\n",
       "    <tr>\n",
       "      <th>99982</th>\n",
       "      <td>TVR SHORTNESS OF BREATH BIVENTRICULAR HEART FA...</td>\n",
       "    </tr>\n",
       "  </tbody>\n",
       "</table>\n",
       "<p>5273 rows × 1 columns</p>\n",
       "</div>"
      ],
      "text/plain": [
       "                                                    DIAGNOSIS\n",
       "SUBJECT_ID                                                   \n",
       "17          PATIENT FORAMEN OVALE  PATENT FORAMEN OVALE MI...\n",
       "21                           CONGESTIVE HEART FAILURE SEPSIS \n",
       "23          CORONARY ARTERY DISEASE CORONARY ARTERY BYPASS...\n",
       "34                               CHEST PAIN CATH BRADYCARDIA \n",
       "36          CORONARY ARTERY DISEASE CORONARY ARTERY BYPASS...\n",
       "...                                                       ...\n",
       "99781       MOTOR VEHICLE ACCIDENT WITH UNSPECIFIED INJURI...\n",
       "99822             SQUAMOUS CELL CANCER HYPONATREMIA DIARRHEA \n",
       "99883       CARDIOMYOPATHY CARDIAC CATH CORONARY ARTERY DI...\n",
       "99923                   HYPONATREMIA END STAGE LIVER DISEASE \n",
       "99982       TVR SHORTNESS OF BREATH BIVENTRICULAR HEART FA...\n",
       "\n",
       "[5273 rows x 1 columns]"
      ]
     },
     "execution_count": 184,
     "metadata": {},
     "output_type": "execute_result"
    }
   ],
   "source": [
    "diags = admission[['SUBJECT_ID', 'DIAGNOSIS']]\n",
    "for i in range(len(diags)):\n",
    "    if isinstance(diags.DIAGNOSIS[i], str):\n",
    "        diags.DIAGNOSIS[i] = diags.DIAGNOSIS[i].replace('\\\\', ' ').\\\n",
    "            replace('/', ' ').replace(',', ' ').\\\n",
    "            replace(';', ' ').replace('*', '') + ' '\n",
    "\n",
    "diags = diags.groupby('SUBJECT_ID').agg('sum')\n",
    "diags"
   ]
  },
  {
   "cell_type": "code",
   "execution_count": 185,
   "id": "06fd8774-5fe1-4b32-945b-6ecbb63ecc63",
   "metadata": {},
   "outputs": [],
   "source": [
    "train_data = pd.merge(mortality, diags, on='SUBJECT_ID')\n",
    "train_data.DIAGNOSIS = train_data.DIAGNOSIS.apply(lambda x: x if isinstance(x, str) else ' ')"
   ]
  },
  {
   "cell_type": "code",
   "execution_count": 233,
   "id": "8b3df458-bd77-4e4f-a0e1-68fc3c073124",
   "metadata": {},
   "outputs": [],
   "source": [
    "train_corpus = train_data.DIAGNOSIS.apply(lambda x: x.split(\" \"))\n",
    "model = gensim.models.Word2Vec(sentences=train_corpus)\n",
    "word_map = model.wv.key_to_index"
   ]
  },
  {
   "cell_type": "code",
   "execution_count": 234,
   "id": "cce40f37-5607-46a9-a376-eb74f3da9fab",
   "metadata": {},
   "outputs": [
    {
     "data": {
      "text/plain": [
       "183"
      ]
     },
     "execution_count": 234,
     "metadata": {},
     "output_type": "execute_result"
    }
   ],
   "source": [
    "diag_len = train_data.DIAGNOSIS.apply(lambda x: x.split(\" \")).apply(len).max()\n",
    "diag_len"
   ]
  },
  {
   "cell_type": "code",
   "execution_count": 235,
   "id": "5f70f71c-7a0f-4b9b-b553-24fe20f69cd1",
   "metadata": {},
   "outputs": [
    {
     "name": "stdout",
     "output_type": "stream",
     "text": [
      "[1, 24, 20, 166, 63, 64, 37, 106, 24, 20, 202, 25, 0]\n"
     ]
    }
   ],
   "source": [
    "train_X = (\n",
    "    train_data\n",
    "    .DIAGNOSIS\n",
    "    .apply(lambda x: list(map(lambda word: word_map[word] if word in word_map else 1, x.split(\" \"))))\n",
    ")\n",
    "print(train_X[0])"
   ]
  },
  {
   "cell_type": "code",
   "execution_count": 236,
   "id": "8abd6a5f-b3ef-4494-9327-3a0829c139c6",
   "metadata": {},
   "outputs": [
    {
     "name": "stderr",
     "output_type": "stream",
     "text": [
      "<ipython-input-236-127d08543fc2>:4: FutureWarning: The pandas.np module is deprecated and will be removed from pandas in a future version. Import numpy directly instead\n",
      "  lambda x: pd.np.pad(x, (0, diag_len-len(x))),\n"
     ]
    },
    {
     "data": {
      "text/plain": [
       "array([  1,  24,  20, 166,  63,  64,  37, 106,  24,  20, 202,  25,   0,\n",
       "         0,   0,   0,   0,   0,   0,   0,   0,   0,   0,   0,   0,   0,\n",
       "         0,   0,   0,   0,   0,   0,   0,   0,   0,   0,   0,   0,   0,\n",
       "         0,   0,   0,   0,   0,   0,   0,   0,   0,   0,   0,   0,   0,\n",
       "         0,   0,   0,   0,   0,   0,   0,   0,   0,   0,   0,   0,   0,\n",
       "         0,   0,   0,   0,   0,   0,   0,   0,   0,   0,   0,   0,   0,\n",
       "         0,   0,   0,   0,   0,   0,   0,   0,   0,   0,   0,   0,   0,\n",
       "         0,   0,   0,   0,   0,   0,   0,   0,   0,   0,   0,   0,   0,\n",
       "         0,   0,   0,   0,   0,   0,   0,   0,   0,   0,   0,   0,   0,\n",
       "         0,   0,   0,   0,   0,   0,   0,   0,   0,   0,   0,   0,   0,\n",
       "         0,   0,   0,   0,   0,   0,   0,   0,   0,   0,   0,   0,   0,\n",
       "         0,   0,   0,   0,   0,   0,   0,   0,   0,   0,   0,   0,   0,\n",
       "         0,   0,   0,   0,   0,   0,   0,   0,   0,   0,   0,   0,   0,\n",
       "         0,   0,   0,   0,   0,   0,   0,   0,   0,   0,   0,   0,   0,\n",
       "         0])"
      ]
     },
     "execution_count": 236,
     "metadata": {},
     "output_type": "execute_result"
    }
   ],
   "source": [
    "train_X = (\n",
    "    list(\n",
    "        map(\n",
    "            lambda x: pd.np.pad(x, (0, diag_len-len(x))), \n",
    "            train_X\n",
    "        )\n",
    "    )\n",
    ")\n",
    "train_X[0]"
   ]
  },
  {
   "cell_type": "code",
   "execution_count": 237,
   "id": "4d052a91-ef74-4240-a293-6e238a72362c",
   "metadata": {},
   "outputs": [
    {
     "data": {
      "text/plain": [
       "tensor([  1,  24,  20, 166,  63,  64,  37, 106,  24,  20, 202,  25,   0,   0,\n",
       "          0,   0,   0,   0,   0,   0,   0,   0,   0,   0,   0,   0,   0,   0,\n",
       "          0,   0,   0,   0,   0,   0,   0,   0,   0,   0,   0,   0,   0,   0,\n",
       "          0,   0,   0,   0,   0,   0,   0,   0,   0,   0,   0,   0,   0,   0,\n",
       "          0,   0,   0,   0,   0,   0,   0,   0,   0,   0,   0,   0,   0,   0,\n",
       "          0,   0,   0,   0,   0,   0,   0,   0,   0,   0,   0,   0,   0,   0,\n",
       "          0,   0,   0,   0,   0,   0,   0,   0,   0,   0,   0,   0,   0,   0,\n",
       "          0,   0,   0,   0,   0,   0,   0,   0,   0,   0,   0,   0,   0,   0,\n",
       "          0,   0,   0,   0,   0,   0,   0,   0,   0,   0,   0,   0,   0,   0,\n",
       "          0,   0,   0,   0,   0,   0,   0,   0,   0,   0,   0,   0,   0,   0,\n",
       "          0,   0,   0,   0,   0,   0,   0,   0,   0,   0,   0,   0,   0,   0,\n",
       "          0,   0,   0,   0,   0,   0,   0,   0,   0,   0,   0,   0,   0,   0,\n",
       "          0,   0,   0,   0,   0,   0,   0,   0,   0,   0,   0,   0,   0,   0,\n",
       "          0])"
      ]
     },
     "execution_count": 237,
     "metadata": {},
     "output_type": "execute_result"
    }
   ],
   "source": [
    "train_X = (\n",
    "    list(\n",
    "        map(\n",
    "            lambda x: torch.LongTensor(x), \n",
    "            train_X\n",
    "        )\n",
    "    )\n",
    ")\n",
    "train_X[0]"
   ]
  },
  {
   "cell_type": "code",
   "execution_count": 270,
   "id": "73eef2eb-90db-4603-a4e6-2e94724178e0",
   "metadata": {},
   "outputs": [],
   "source": [
    "train_X = torch.stack(train_X)\n",
    "train_target = train_data.MORTALITY.values.reshape(-1,1)\n",
    "train_target = torch.tensor(train_target).reshape(-1)\n",
    "train_dataloader = TensorDataset(train_X, train_target)"
   ]
  },
  {
   "cell_type": "code",
   "execution_count": 271,
   "id": "a3098fe5-904c-4229-97c2-a8e86f258b20",
   "metadata": {},
   "outputs": [
    {
     "data": {
      "text/plain": [
       "tensor([1, 1, 0,  ..., 1, 1, 0])"
      ]
     },
     "execution_count": 271,
     "metadata": {},
     "output_type": "execute_result"
    }
   ],
   "source": [
    "train_target"
   ]
  },
  {
   "cell_type": "code",
   "execution_count": 239,
   "id": "1880761b-af4f-49bd-a89b-b53cbe6ed45a",
   "metadata": {},
   "outputs": [
    {
     "name": "stderr",
     "output_type": "stream",
     "text": [
      "<ipython-input-239-8c442d60ac87>:1: FutureWarning: The pandas.np module is deprecated and will be removed from pandas in a future version. Import numpy directly instead\n",
      "  word_vectors_for_training = pd.np.insert(\n",
      "<ipython-input-239-8c442d60ac87>:4: FutureWarning: The pandas.np module is deprecated and will be removed from pandas in a future version. Import numpy directly instead\n",
      "  pd.np.random.uniform(model.wv.vectors.min(),model.wv.vectors.max(),300),\n"
     ]
    },
    {
     "ename": "ValueError",
     "evalue": "could not broadcast input array from shape (1,300) into shape (1,100)",
     "output_type": "error",
     "traceback": [
      "\u001b[0;31m---------------------------------------------------------------------------\u001b[0m",
      "\u001b[0;31mValueError\u001b[0m                                Traceback (most recent call last)",
      "\u001b[0;32m<ipython-input-239-8c442d60ac87>\u001b[0m in \u001b[0;36m<module>\u001b[0;34m\u001b[0m\n\u001b[0;32m----> 1\u001b[0;31m word_vectors_for_training = pd.np.insert(\n\u001b[0m\u001b[1;32m      2\u001b[0m     \u001b[0mmodel\u001b[0m\u001b[0;34m.\u001b[0m\u001b[0mwv\u001b[0m\u001b[0;34m.\u001b[0m\u001b[0mvectors\u001b[0m\u001b[0;34m,\u001b[0m\u001b[0;34m\u001b[0m\u001b[0;34m\u001b[0m\u001b[0m\n\u001b[1;32m      3\u001b[0m     \u001b[0;36m0\u001b[0m\u001b[0;34m,\u001b[0m\u001b[0;34m\u001b[0m\u001b[0;34m\u001b[0m\u001b[0m\n\u001b[1;32m      4\u001b[0m     \u001b[0mpd\u001b[0m\u001b[0;34m.\u001b[0m\u001b[0mnp\u001b[0m\u001b[0;34m.\u001b[0m\u001b[0mrandom\u001b[0m\u001b[0;34m.\u001b[0m\u001b[0muniform\u001b[0m\u001b[0;34m(\u001b[0m\u001b[0mmodel\u001b[0m\u001b[0;34m.\u001b[0m\u001b[0mwv\u001b[0m\u001b[0;34m.\u001b[0m\u001b[0mvectors\u001b[0m\u001b[0;34m.\u001b[0m\u001b[0mmin\u001b[0m\u001b[0;34m(\u001b[0m\u001b[0;34m)\u001b[0m\u001b[0;34m,\u001b[0m\u001b[0mmodel\u001b[0m\u001b[0;34m.\u001b[0m\u001b[0mwv\u001b[0m\u001b[0;34m.\u001b[0m\u001b[0mvectors\u001b[0m\u001b[0;34m.\u001b[0m\u001b[0mmax\u001b[0m\u001b[0;34m(\u001b[0m\u001b[0;34m)\u001b[0m\u001b[0;34m,\u001b[0m\u001b[0;36m300\u001b[0m\u001b[0;34m)\u001b[0m\u001b[0;34m,\u001b[0m\u001b[0;34m\u001b[0m\u001b[0;34m\u001b[0m\u001b[0m\n\u001b[1;32m      5\u001b[0m     \u001b[0maxis\u001b[0m\u001b[0;34m=\u001b[0m\u001b[0;36m0\u001b[0m\u001b[0;34m\u001b[0m\u001b[0;34m\u001b[0m\u001b[0m\n",
      "\u001b[0;32m<__array_function__ internals>\u001b[0m in \u001b[0;36minsert\u001b[0;34m(*args, **kwargs)\u001b[0m\n",
      "\u001b[0;32m~/anaconda3/lib/python3.8/site-packages/numpy/lib/function_base.py\u001b[0m in \u001b[0;36minsert\u001b[0;34m(arr, obj, values, axis)\u001b[0m\n\u001b[1;32m   4650\u001b[0m         \u001b[0mnew\u001b[0m\u001b[0;34m[\u001b[0m\u001b[0mtuple\u001b[0m\u001b[0;34m(\u001b[0m\u001b[0mslobj\u001b[0m\u001b[0;34m)\u001b[0m\u001b[0;34m]\u001b[0m \u001b[0;34m=\u001b[0m \u001b[0marr\u001b[0m\u001b[0;34m[\u001b[0m\u001b[0mtuple\u001b[0m\u001b[0;34m(\u001b[0m\u001b[0mslobj\u001b[0m\u001b[0;34m)\u001b[0m\u001b[0;34m]\u001b[0m\u001b[0;34m\u001b[0m\u001b[0;34m\u001b[0m\u001b[0m\n\u001b[1;32m   4651\u001b[0m         \u001b[0mslobj\u001b[0m\u001b[0;34m[\u001b[0m\u001b[0maxis\u001b[0m\u001b[0;34m]\u001b[0m \u001b[0;34m=\u001b[0m \u001b[0mslice\u001b[0m\u001b[0;34m(\u001b[0m\u001b[0mindex\u001b[0m\u001b[0;34m,\u001b[0m \u001b[0mindex\u001b[0m\u001b[0;34m+\u001b[0m\u001b[0mnumnew\u001b[0m\u001b[0;34m)\u001b[0m\u001b[0;34m\u001b[0m\u001b[0;34m\u001b[0m\u001b[0m\n\u001b[0;32m-> 4652\u001b[0;31m         \u001b[0mnew\u001b[0m\u001b[0;34m[\u001b[0m\u001b[0mtuple\u001b[0m\u001b[0;34m(\u001b[0m\u001b[0mslobj\u001b[0m\u001b[0;34m)\u001b[0m\u001b[0;34m]\u001b[0m \u001b[0;34m=\u001b[0m \u001b[0mvalues\u001b[0m\u001b[0;34m\u001b[0m\u001b[0;34m\u001b[0m\u001b[0m\n\u001b[0m\u001b[1;32m   4653\u001b[0m         \u001b[0mslobj\u001b[0m\u001b[0;34m[\u001b[0m\u001b[0maxis\u001b[0m\u001b[0;34m]\u001b[0m \u001b[0;34m=\u001b[0m \u001b[0mslice\u001b[0m\u001b[0;34m(\u001b[0m\u001b[0mindex\u001b[0m\u001b[0;34m+\u001b[0m\u001b[0mnumnew\u001b[0m\u001b[0;34m,\u001b[0m \u001b[0;32mNone\u001b[0m\u001b[0;34m)\u001b[0m\u001b[0;34m\u001b[0m\u001b[0;34m\u001b[0m\u001b[0m\n\u001b[1;32m   4654\u001b[0m         \u001b[0mslobj2\u001b[0m \u001b[0;34m=\u001b[0m \u001b[0;34m[\u001b[0m\u001b[0mslice\u001b[0m\u001b[0;34m(\u001b[0m\u001b[0;32mNone\u001b[0m\u001b[0;34m)\u001b[0m\u001b[0;34m]\u001b[0m \u001b[0;34m*\u001b[0m \u001b[0mndim\u001b[0m\u001b[0;34m\u001b[0m\u001b[0;34m\u001b[0m\u001b[0m\n",
      "\u001b[0;31mValueError\u001b[0m: could not broadcast input array from shape (1,300) into shape (1,100)"
     ]
    }
   ],
   "source": [
    "word_vectors_for_training = pd.np.insert(\n",
    "    model.wv.vectors,   \n",
    "    0, \n",
    "    pd.np.random.uniform(model.wv.vectors.min(),model.wv.vectors.max(),300),\n",
    "    axis=0\n",
    ")\n",
    "\n",
    "word_vectors_for_training = pd.np.insert(\n",
    "    word_vectors_for_training,   \n",
    "    0, \n",
    "    pd.np.zeros(300),\n",
    "    axis=0\n",
    ")\n",
    "word_vectors_for_training = torch.FloatTensor(word_vectors_for_training)\n",
    "word_vectors_for_training.shape"
   ]
  },
  {
   "cell_type": "code",
   "execution_count": 321,
   "id": "c491eb90-bff7-4725-9030-d6921cb56ffc",
   "metadata": {},
   "outputs": [],
   "source": [
    "class PatientRep(nn.Module):\n",
    "    def __init__(self, weight):\n",
    "        super(PatientRep, self).__init__() \n",
    "        #self.embedding = nn.Embedding(5000, 300)\n",
    "        self.embedding = nn.Embedding.from_pretrained(weight)\n",
    "        self.avgpool = nn.AvgPool1d(100)\n",
    "        self.linear = nn.Linear(183, 100)\n",
    "        self.relu = nn.ReLU()\n",
    "        self.output = nn.Linear(100, 1)\n",
    "        \n",
    "    def forward(self, x):\n",
    "        x = self.avgpool(self.embedding(x))\n",
    "        x = self.relu(self.linear(torch.squeeze(x)))\n",
    "        x = self.output(x)\n",
    "        return torch.squeeze(x)"
   ]
  },
  {
   "cell_type": "code",
   "execution_count": 338,
   "id": "780984dc-f5d8-4d48-8233-c8f777c25052",
   "metadata": {},
   "outputs": [],
   "source": [
    "model = PatientRep(train_weight)\n",
    "criterion = nn.BCELoss()\n",
    "optimizer = optim.Adam(model.parameters())\n",
    "\n",
    "device = torch.device(\"cpu\")\n",
    "model.to(device)\n",
    "criterion.to(device)\n",
    "\n",
    "best_val_acc = 0.0\n",
    "train_losses, train_accuracies = [], []\n",
    "valid_losses, valid_accuracies = [], []"
   ]
  },
  {
   "cell_type": "code",
   "execution_count": 339,
   "id": "e08f2503-3558-431b-b4a2-75d05def1987",
   "metadata": {},
   "outputs": [],
   "source": [
    "for i in range(100):\n",
    "    optimizer.zero_grad()\n",
    "    output = model(train_X)\n",
    "    loss = criterion(output, train_target.float())\n",
    "    assert not np.isnan(loss.item()), 'Model diverged with loss = NaN'\n",
    "\n",
    "    loss.backward()\n",
    "    optimizer.step()\n",
    "    train_losses.append(loss.item())\n"
   ]
  },
  {
   "cell_type": "code",
   "execution_count": 341,
   "id": "91dc10bd-3339-4b62-ae96-8b728d883292",
   "metadata": {},
   "outputs": [],
   "source": [
    "import matplotlib.pyplot as plt"
   ]
  },
  {
   "cell_type": "code",
   "execution_count": 342,
   "id": "4fa980c3-a173-465f-92e2-4fe2012c2eeb",
   "metadata": {},
   "outputs": [
    {
     "data": {
      "text/plain": [
       "Text(0.5, 1.0, 'Loss Curve')"
      ]
     },
     "execution_count": 342,
     "metadata": {},
     "output_type": "execute_result"
    },
    {
     "data": {
      "image/png": "[encoded data removed]",
      "text/plain": [
       "<Figure size 432x288 with 1 Axes>"
      ]
     },
     "metadata": {
      "needs_background": "light"
     },
     "output_type": "display_data"
    }
   ],
   "source": [
    "epoches = list(range(len(train_losses)))\n",
    "plt.plot(epoches, train_losses, label = \"Training Loss\")\n",
    "plt.ylabel(\"Loss\")\n",
    "plt.xlabel(\"epoch\")\n",
    "plt.legend()\n",
    "plt.title(\"Loss Curve\")"
   ]
  },
  {
   "cell_type": "code",
   "execution_count": null,
   "id": "a2d64ffc-af96-45ea-9799-7cd8490139b2",
   "metadata": {},
   "outputs": [],
   "source": []
  },
  {
   "cell_type": "code",
   "execution_count": null,
   "id": "e11472b9-4992-428d-a485-a1884bd59a79",
   "metadata": {},
   "outputs": [],
   "source": [
    "# load test data"
   ]
  },
  {
   "cell_type": "code",
   "execution_count": 343,
   "id": "556f55fa-c514-451a-9169-254445f0fded",
   "metadata": {},
   "outputs": [],
   "source": [
    "test_admission = pd.read_csv(\"./mortality/validation/ADMISSIONS.csv\")\n",
    "test_mortality = pd.read_csv(\"./mortality/validation/MORTALITY.csv\")"
   ]
  },
  {
   "cell_type": "code",
   "execution_count": 345,
   "id": "8ba8a5ed-1845-4fa1-9edb-c4840fc6eb07",
   "metadata": {},
   "outputs": [
    {
     "name": "stderr",
     "output_type": "stream",
     "text": [
      "<ipython-input-345-eb02aa5b2a88>:4: SettingWithCopyWarning: \n",
      "A value is trying to be set on a copy of a slice from a DataFrame\n",
      "\n",
      "See the caveats in the documentation: https://pandas.pydata.org/pandas-docs/stable/user_guide/indexing.html#returning-a-view-versus-a-copy\n",
      "  test_diags.DIAGNOSIS[i] = test_diags.DIAGNOSIS[i].replace('\\\\', ' ').\\\n",
      "/home/xyj/anaconda3/lib/python3.8/site-packages/IPython/core/interactiveshell.py:3437: SettingWithCopyWarning: \n",
      "A value is trying to be set on a copy of a slice from a DataFrame\n",
      "\n",
      "See the caveats in the documentation: https://pandas.pydata.org/pandas-docs/stable/user_guide/indexing.html#returning-a-view-versus-a-copy\n",
      "  exec(code_obj, self.user_global_ns, self.user_ns)\n"
     ]
    },
    {
     "data": {
      "text/html": [
       "<div>\n",
       "<style scoped>\n",
       "    .dataframe tbody tr th:only-of-type {\n",
       "        vertical-align: middle;\n",
       "    }\n",
       "\n",
       "    .dataframe tbody tr th {\n",
       "        vertical-align: top;\n",
       "    }\n",
       "\n",
       "    .dataframe thead th {\n",
       "        text-align: right;\n",
       "    }\n",
       "</style>\n",
       "<table border=\"1\" class=\"dataframe\">\n",
       "  <thead>\n",
       "    <tr style=\"text-align: right;\">\n",
       "      <th></th>\n",
       "      <th>DIAGNOSIS</th>\n",
       "    </tr>\n",
       "    <tr>\n",
       "      <th>SUBJECT_ID</th>\n",
       "      <th></th>\n",
       "    </tr>\n",
       "  </thead>\n",
       "  <tbody>\n",
       "    <tr>\n",
       "      <th>68</th>\n",
       "      <td>PNEUMONIA WEAKNESS</td>\n",
       "    </tr>\n",
       "    <tr>\n",
       "      <th>105</th>\n",
       "      <td>FEVER ORIGIN UNKNOWN DYSRHYTHMIA TELEMETRY FEVER</td>\n",
       "    </tr>\n",
       "    <tr>\n",
       "      <th>117</th>\n",
       "      <td>LIVER FAILURE S P TIPS ENCEPHALOPATHY LIVER FA...</td>\n",
       "    </tr>\n",
       "    <tr>\n",
       "      <th>157</th>\n",
       "      <td>SUBDURAL BLEED SEPSIS</td>\n",
       "    </tr>\n",
       "    <tr>\n",
       "      <th>209</th>\n",
       "      <td>UNSTABLE ANGINA NON-ST SEGMENT ELEVATION MYOCA...</td>\n",
       "    </tr>\n",
       "    <tr>\n",
       "      <th>...</th>\n",
       "      <td>...</td>\n",
       "    </tr>\n",
       "    <tr>\n",
       "      <th>99054</th>\n",
       "      <td>UPPER GI BLEED UPPER GI BLEED</td>\n",
       "    </tr>\n",
       "    <tr>\n",
       "      <th>99088</th>\n",
       "      <td>MALIGNANT NEOPLASM  RIGHT HAND SDA LUNG ABSCES...</td>\n",
       "    </tr>\n",
       "    <tr>\n",
       "      <th>99185</th>\n",
       "      <td>CORONARY ARTERY DISEASE CHRONIC OBST PULM DISE...</td>\n",
       "    </tr>\n",
       "    <tr>\n",
       "      <th>99408</th>\n",
       "      <td>ESOPHAGEAL CANCER SDA SOB</td>\n",
       "    </tr>\n",
       "    <tr>\n",
       "      <th>99783</th>\n",
       "      <td>AORTIC INSUFFICIENCY BENTAL PROCEDURE  SDA RUL...</td>\n",
       "    </tr>\n",
       "  </tbody>\n",
       "</table>\n",
       "<p>754 rows × 1 columns</p>\n",
       "</div>"
      ],
      "text/plain": [
       "                                                    DIAGNOSIS\n",
       "SUBJECT_ID                                                   \n",
       "68                                        PNEUMONIA WEAKNESS \n",
       "105         FEVER ORIGIN UNKNOWN DYSRHYTHMIA TELEMETRY FEVER \n",
       "117         LIVER FAILURE S P TIPS ENCEPHALOPATHY LIVER FA...\n",
       "157                                    SUBDURAL BLEED SEPSIS \n",
       "209         UNSTABLE ANGINA NON-ST SEGMENT ELEVATION MYOCA...\n",
       "...                                                       ...\n",
       "99054                          UPPER GI BLEED UPPER GI BLEED \n",
       "99088       MALIGNANT NEOPLASM  RIGHT HAND SDA LUNG ABSCES...\n",
       "99185       CORONARY ARTERY DISEASE CHRONIC OBST PULM DISE...\n",
       "99408                              ESOPHAGEAL CANCER SDA SOB \n",
       "99783       AORTIC INSUFFICIENCY BENTAL PROCEDURE  SDA RUL...\n",
       "\n",
       "[754 rows x 1 columns]"
      ]
     },
     "execution_count": 345,
     "metadata": {},
     "output_type": "execute_result"
    }
   ],
   "source": [
    "test_diags = test_admission[['SUBJECT_ID', 'DIAGNOSIS']]\n",
    "for i in range(len(test_diags)):\n",
    "    if isinstance(test_diags.DIAGNOSIS[i], str):\n",
    "        test_diags.DIAGNOSIS[i] = test_diags.DIAGNOSIS[i].replace('\\\\', ' ').\\\n",
    "            replace('/', ' ').replace(',', ' ').\\\n",
    "            replace(';', ' ').replace('*', '') + ' '\n",
    "\n",
    "test_diags = test_diags.groupby('SUBJECT_ID').agg('sum')\n",
    "test_diags"
   ]
  },
  {
   "cell_type": "code",
   "execution_count": 346,
   "id": "06e920ac-7403-42ba-be92-514159bb80fc",
   "metadata": {},
   "outputs": [],
   "source": [
    "test_data = pd.merge(test_mortality, test_diags, on='SUBJECT_ID')\n",
    "test_data.DIAGNOSIS = test_data.DIAGNOSIS.apply(lambda x: x if isinstance(x, str) else ' ')"
   ]
  },
  {
   "cell_type": "code",
   "execution_count": 347,
   "id": "7c3fb2e5-0cff-424a-b33c-68ccfe66c7ee",
   "metadata": {},
   "outputs": [
    {
     "data": {
      "text/plain": [
       "68"
      ]
     },
     "execution_count": 347,
     "metadata": {},
     "output_type": "execute_result"
    }
   ],
   "source": [
    "test_diag_len = test_data.DIAGNOSIS.apply(lambda x: x.split(\" \")).apply(len).max()\n",
    "test_diag_len"
   ]
  },
  {
   "cell_type": "code",
   "execution_count": 348,
   "id": "94f6382f-c887-4825-bb04-8f3752ef3818",
   "metadata": {},
   "outputs": [
    {
     "name": "stdout",
     "output_type": "stream",
     "text": [
      "[5, 79, 109, 0]\n"
     ]
    }
   ],
   "source": [
    "test_X = (\n",
    "    test_data\n",
    "    .DIAGNOSIS\n",
    "    .apply(lambda x: list(map(lambda word: word_map[word] if word in word_map else 1, x.split(\" \"))))\n",
    ")\n",
    "print(test_X[0])"
   ]
  },
  {
   "cell_type": "code",
   "execution_count": 351,
   "id": "5d411859-7188-47d0-9236-437123d6fca4",
   "metadata": {},
   "outputs": [
    {
     "name": "stderr",
     "output_type": "stream",
     "text": [
      "<ipython-input-351-f980d7d14079>:4: FutureWarning: The pandas.np module is deprecated and will be removed from pandas in a future version. Import numpy directly instead\n",
      "  lambda x: pd.np.pad(x, (0, diag_len-len(x))),\n"
     ]
    },
    {
     "data": {
      "text/plain": [
       "tensor([  1,  24,  20, 166,  63,  64,  37, 106,  24,  20, 202,  25,   0,   0,\n",
       "          0,   0,   0,   0,   0,   0,   0,   0,   0,   0,   0,   0,   0,   0,\n",
       "          0,   0,   0,   0,   0,   0,   0,   0,   0,   0,   0,   0,   0,   0,\n",
       "          0,   0,   0,   0,   0,   0,   0,   0,   0,   0,   0,   0,   0,   0,\n",
       "          0,   0,   0,   0,   0,   0,   0,   0,   0,   0,   0,   0,   0,   0,\n",
       "          0,   0,   0,   0,   0,   0,   0,   0,   0,   0,   0,   0,   0,   0,\n",
       "          0,   0,   0,   0,   0,   0,   0,   0,   0,   0,   0,   0,   0,   0,\n",
       "          0,   0,   0,   0,   0,   0,   0,   0,   0,   0,   0,   0,   0,   0,\n",
       "          0,   0,   0,   0,   0,   0,   0,   0,   0,   0,   0,   0,   0,   0,\n",
       "          0,   0,   0,   0,   0,   0,   0,   0,   0,   0,   0,   0,   0,   0,\n",
       "          0,   0,   0,   0,   0,   0,   0,   0,   0,   0,   0,   0,   0,   0,\n",
       "          0,   0,   0,   0,   0,   0,   0,   0,   0,   0,   0,   0,   0,   0,\n",
       "          0,   0,   0,   0,   0,   0,   0,   0,   0,   0,   0,   0,   0,   0,\n",
       "          0])"
      ]
     },
     "execution_count": 351,
     "metadata": {},
     "output_type": "execute_result"
    }
   ],
   "source": [
    "test_X = (\n",
    "    list(\n",
    "        map(\n",
    "            lambda x: pd.np.pad(x, (0, diag_len-len(x))), \n",
    "            test_X\n",
    "        )\n",
    "    )\n",
    ")\n",
    "train_X[0]"
   ]
  },
  {
   "cell_type": "code",
   "execution_count": 352,
   "id": "b22ccc18-5b3c-40e4-b1f8-3a938e5445ce",
   "metadata": {},
   "outputs": [
    {
     "data": {
      "text/plain": [
       "tensor([  5,  79, 109,   0,   0,   0,   0,   0,   0,   0,   0,   0,   0,   0,\n",
       "          0,   0,   0,   0,   0,   0,   0,   0,   0,   0,   0,   0,   0,   0,\n",
       "          0,   0,   0,   0,   0,   0,   0,   0,   0,   0,   0,   0,   0,   0,\n",
       "          0,   0,   0,   0,   0,   0,   0,   0,   0,   0,   0,   0,   0,   0,\n",
       "          0,   0,   0,   0,   0,   0,   0,   0,   0,   0,   0,   0,   0,   0,\n",
       "          0,   0,   0,   0,   0,   0,   0,   0,   0,   0,   0,   0,   0,   0,\n",
       "          0,   0,   0,   0,   0,   0,   0,   0,   0,   0,   0,   0,   0,   0,\n",
       "          0,   0,   0,   0,   0,   0,   0,   0,   0,   0,   0,   0,   0,   0,\n",
       "          0,   0,   0,   0,   0,   0,   0,   0,   0,   0,   0,   0,   0,   0,\n",
       "          0,   0,   0,   0,   0,   0,   0,   0,   0,   0,   0,   0,   0,   0,\n",
       "          0,   0,   0,   0,   0,   0,   0,   0,   0,   0,   0,   0,   0,   0,\n",
       "          0,   0,   0,   0,   0,   0,   0,   0,   0,   0,   0,   0,   0,   0,\n",
       "          0,   0,   0,   0,   0,   0,   0,   0,   0,   0,   0,   0,   0,   0,\n",
       "          0])"
      ]
     },
     "execution_count": 352,
     "metadata": {},
     "output_type": "execute_result"
    }
   ],
   "source": [
    "test_X = (\n",
    "    list(\n",
    "        map(\n",
    "            lambda x: torch.LongTensor(x), \n",
    "            test_X\n",
    "        )\n",
    "    )\n",
    ")\n",
    "test_X[0]"
   ]
  },
  {
   "cell_type": "code",
   "execution_count": 353,
   "id": "f5c37587-2713-4971-806c-0cccb835b40f",
   "metadata": {},
   "outputs": [],
   "source": [
    "test_X = torch.stack(test_X)"
   ]
  },
  {
   "cell_type": "code",
   "execution_count": 354,
   "id": "ea2bc11a-d2f3-4ad3-8cd4-a7a2e621da04",
   "metadata": {},
   "outputs": [],
   "source": [
    "model.eval()"
   ]
  },
  {
   "cell_type": "code",
   "execution_count": 357,
   "id": "aea5eab4-d5d9-4d78-87f7-61bddf72ac5d",
   "metadata": {},
   "outputs": [],
   "source": [
    "res = model.avgpool(model.embedding(test_X))\n",
    "res = model.linear(torch.squeeze(res))"
   ]
  },
  {
   "cell_type": "code",
   "execution_count": 363,
   "id": "31651d20-e501-4040-b54a-8f2e4d57e0fd",
   "metadata": {},
   "outputs": [],
   "source": [
    "res = res.detach().numpy()"
   ]
  },
  {
   "cell_type": "code",
   "execution_count": 364,
   "id": "248939a6-b27a-4cf9-8c93-a8ec0e269d87",
   "metadata": {},
   "outputs": [
    {
     "data": {
      "text/plain": [
       "array([[-0.01954903,  0.03564813,  0.07386118, ..., -0.03804045,\n",
       "        -0.05819615,  0.06601918],\n",
       "       [-0.01859373,  0.02492965,  0.10262744, ..., -0.0465885 ,\n",
       "        -0.0669103 ,  0.07853486],\n",
       "       [-0.02198775,  0.04155006,  0.0484906 , ..., -0.03352645,\n",
       "        -0.05043018,  0.05113207],\n",
       "       ...,\n",
       "       [-0.02708451,  0.03771221,  0.06688596, ..., -0.0358182 ,\n",
       "        -0.05692606,  0.05895178],\n",
       "       [-0.02850868,  0.03859878,  0.07114066, ..., -0.03704749,\n",
       "        -0.06112958,  0.06426977],\n",
       "       [-0.0349398 ,  0.04757274,  0.06099521, ..., -0.03746616,\n",
       "        -0.05434515,  0.05549812]], dtype=float32)"
      ]
     },
     "execution_count": 364,
     "metadata": {},
     "output_type": "execute_result"
    }
   ],
   "source": [
    "res"
   ]
  },
  {
   "cell_type": "code",
   "execution_count": 366,
   "id": "2e77626a-ef7f-485d-a59a-1999a94907ec",
   "metadata": {},
   "outputs": [],
   "source": [
    "from sklearn.cluster import KMeans\n",
    "from sklearn.preprocessing import StandardScaler"
   ]
  },
  {
   "cell_type": "code",
   "execution_count": 367,
   "id": "c34b7754-8b32-4c63-8791-ce4c469429bc",
   "metadata": {},
   "outputs": [],
   "source": [
    "scaler = StandardScaler()\n",
    "scaled_features = scaler.fit_transform(res)"
   ]
  },
  {
   "cell_type": "code",
   "execution_count": 368,
   "id": "6ad4e91a-e713-4378-ad2a-d375cd81eb0f",
   "metadata": {},
   "outputs": [
    {
     "data": {
      "text/plain": [
       "KMeans(init='random', n_clusters=2, random_state=42)"
      ]
     },
     "execution_count": 368,
     "metadata": {},
     "output_type": "execute_result"
    }
   ],
   "source": [
    "kmeans = KMeans(init=\"random\",n_clusters=2,n_init=10,max_iter=300,random_state=42)\n",
    "kmeans.fit(scaled_features)"
   ]
  },
  {
   "cell_type": "code",
   "execution_count": 369,
   "id": "ac00373c-7ca2-4748-abe6-b17cfac4dc34",
   "metadata": {},
   "outputs": [
    {
     "data": {
      "text/plain": [
       "array([1, 0, 1, 0, 1, 1, 1, 0, 1, 1, 1, 1, 1, 1, 1, 1, 1, 1, 1, 1, 0, 0,\n",
       "       1, 1, 1, 1, 1, 1, 0, 1, 1, 1, 1, 1, 0, 1, 1, 1, 1, 1, 1, 1, 1, 0,\n",
       "       1, 1, 0, 1, 1, 1, 1, 1, 1, 0, 1, 1, 1, 1, 1, 1, 1, 1, 0, 1, 0, 1,\n",
       "       1, 1, 1, 1, 1, 0, 0, 0, 1, 1, 1, 1, 1, 1, 0, 1, 0, 0, 1, 1, 1, 1,\n",
       "       1, 0, 0, 1, 1, 1, 0, 0, 1, 0, 1, 1, 1, 1, 1, 1, 1, 1, 0, 1, 0, 1,\n",
       "       1, 1, 0, 1, 0, 0, 0, 1, 1, 1, 1, 1, 1, 1, 1, 1, 1, 1, 1, 1, 1, 1,\n",
       "       1, 1, 1, 1, 0, 0, 1, 1, 1, 0, 0, 1, 0, 1, 0, 1, 1, 1, 1, 1, 0, 1,\n",
       "       1, 1, 1, 1, 1, 1, 1, 0, 1, 0, 1, 1, 0, 1, 0, 1, 1, 0, 1, 0, 1, 1,\n",
       "       1, 1, 1, 1, 1, 1, 1, 1, 1, 0, 1, 1, 0, 1, 0, 1, 1, 1, 1, 1, 1, 1,\n",
       "       1, 1, 1, 1, 1, 1, 1, 1, 0, 0, 1, 1, 0, 1, 1, 1, 1, 1, 1, 0, 0, 1,\n",
       "       1, 1, 1, 1, 1, 0, 0, 1, 1, 1, 1, 0, 1, 1, 1, 0, 0, 1, 1, 0, 0, 0,\n",
       "       1, 1, 1, 1, 0, 0, 1, 0, 1, 1, 1, 1, 1, 0, 1, 1, 0, 1, 1, 1, 1, 1,\n",
       "       1, 0, 1, 1, 1, 1, 1, 0, 1, 1, 1, 1, 1, 0, 1, 1, 0, 1, 1, 1, 0, 1,\n",
       "       1, 0, 1, 0, 1, 1, 1, 1, 0, 1, 1, 1, 1, 1, 1, 1, 1, 1, 1, 1, 1, 0,\n",
       "       1, 1, 1, 1, 1, 1, 1, 1, 0, 1, 1, 1, 1, 0, 1, 1, 1, 1, 1, 0, 0, 1,\n",
       "       0, 1, 1, 1, 1, 1, 1, 1, 1, 1, 1, 0, 1, 1, 1, 0, 1, 1, 0, 0, 1, 1,\n",
       "       1, 1, 0, 0, 1, 1, 1, 1, 0, 1, 1, 1, 1, 0, 0, 1, 1, 0, 1, 1, 1, 0,\n",
       "       0, 1, 1, 1, 1, 1, 1, 0, 1, 1, 1, 0, 1, 0, 1, 1, 1, 1, 1, 1, 0, 1,\n",
       "       1, 1, 1, 1, 1, 1, 1, 0, 1, 0, 1, 1, 0, 0, 1, 1, 1, 1, 1, 1, 1, 1,\n",
       "       1, 1, 1, 0, 1, 0, 0, 0, 0, 1, 0, 1, 1, 1, 1, 0, 0, 1, 0, 1, 1, 1,\n",
       "       1, 1, 0, 1, 0, 0, 1, 1, 0, 1, 1, 0, 1, 1, 1, 0, 1, 1, 1, 1, 1, 1,\n",
       "       1, 1, 0, 1, 0, 0, 0, 1, 1, 0, 0, 0, 0, 1, 1, 1, 0, 1, 1, 1, 1, 0,\n",
       "       1, 1, 1, 0, 1, 1, 1, 0, 1, 1, 1, 1, 0, 1, 1, 1, 1, 1, 0, 0, 1, 1,\n",
       "       1, 1, 1, 1, 0, 1, 1, 1, 1, 1, 0, 1, 1, 1, 1, 1, 1, 1, 1, 1, 1, 1,\n",
       "       1, 1, 1, 1, 1, 1, 1, 1, 0, 1, 0, 1, 1, 0, 1, 1, 1, 0, 1, 1, 1, 1,\n",
       "       0, 1, 1, 1, 1, 1, 1, 1, 1, 0, 1, 0, 0, 1, 0, 1, 1, 1, 0, 1, 1, 1,\n",
       "       0, 1, 1, 0, 1, 1, 1, 1, 1, 1, 1, 1, 0, 1, 1, 1, 1, 1, 1, 1, 1, 1,\n",
       "       1, 1, 0, 0, 0, 1, 0, 1, 1, 1, 1, 0, 1, 1, 1, 0, 0, 1, 1, 1, 1, 1,\n",
       "       1, 0, 1, 0, 1, 0, 1, 0, 1, 0, 0, 0, 0, 1, 1, 1, 1, 1, 1, 1, 1, 0,\n",
       "       0, 0, 1, 0, 0, 1, 0, 1, 1, 1, 0, 1, 0, 1, 1, 0, 1, 1, 1, 0, 1, 0,\n",
       "       1, 1, 1, 0, 1, 1, 1, 1, 1, 1, 1, 1, 1, 1, 1, 1, 1, 1, 1, 1, 0, 1,\n",
       "       1, 1, 1, 1, 1, 1, 0, 1, 1, 0, 1, 0, 0, 1, 1, 1, 1, 1, 1, 0, 1, 1,\n",
       "       0, 1, 0, 1, 0, 1, 1, 1, 1, 1, 1, 0, 0, 1, 1, 0, 0, 1, 1, 0, 1, 1,\n",
       "       0, 1, 0, 0, 1, 1, 1, 1, 0, 1, 1, 1, 0, 1, 0, 1, 1, 0, 1, 1, 0, 1,\n",
       "       1, 1, 1, 1, 1, 1], dtype=int32)"
      ]
     },
     "execution_count": 369,
     "metadata": {},
     "output_type": "execute_result"
    }
   ],
   "source": [
    "kmeans.labels_"
   ]
  },
  {
   "cell_type": "code",
   "execution_count": 372,
   "id": "026bf273-fa12-4875-aae4-ed4a7821da2f",
   "metadata": {},
   "outputs": [
    {
     "data": {
      "text/plain": [
       "array([0, 0, 1, 1, 0, 1, 1, 1, 1, 1, 0, 1, 1, 0, 1, 1, 1, 1, 1, 0, 0, 0,\n",
       "       1, 0, 0, 1, 0, 1, 0, 1, 0, 0, 0, 1, 1, 1, 1, 1, 1, 0, 1, 0, 0, 1,\n",
       "       0, 0, 0, 0, 1, 0, 1, 1, 1, 1, 0, 0, 1, 1, 1, 0, 0, 0, 0, 0, 0, 0,\n",
       "       1, 0, 1, 1, 1, 1, 1, 1, 1, 1, 1, 1, 1, 1, 1, 1, 1, 1, 0, 0, 0, 1,\n",
       "       0, 1, 1, 1, 0, 1, 1, 0, 1, 1, 1, 1, 0, 1, 1, 0, 0, 0, 1, 1, 1, 1,\n",
       "       1, 0, 1, 0, 1, 0, 1, 1, 1, 1, 0, 1, 1, 1, 0, 1, 0, 1, 0, 1, 1, 0,\n",
       "       1, 0, 1, 1, 1, 0, 1, 1, 0, 0, 0, 1, 0, 1, 1, 1, 0, 0, 0, 1, 1, 1,\n",
       "       0, 0, 1, 0, 1, 1, 1, 1, 0, 1, 0, 1, 0, 1, 1, 0, 1, 1, 1, 0, 0, 1,\n",
       "       1, 1, 0, 0, 1, 0, 0, 0, 0, 1, 0, 1, 1, 1, 0, 1, 1, 0, 1, 0, 1, 1,\n",
       "       1, 0, 0, 0, 1, 0, 1, 1, 0, 0, 0, 1, 1, 1, 1, 1, 1, 1, 1, 1, 1, 1,\n",
       "       1, 1, 0, 0, 0, 1, 0, 1, 1, 1, 0, 1, 1, 1, 1, 1, 1, 0, 0, 1, 1, 1,\n",
       "       0, 0, 1, 0, 0, 0, 1, 1, 1, 1, 0, 1, 1, 1, 0, 1, 1, 0, 0, 1, 1, 1,\n",
       "       0, 1, 1, 1, 0, 1, 1, 0, 1, 1, 1, 0, 0, 1, 1, 1, 1, 0, 1, 0, 1, 0,\n",
       "       0, 1, 0, 1, 0, 1, 0, 1, 1, 1, 1, 1, 1, 0, 0, 0, 0, 1, 0, 0, 0, 1,\n",
       "       1, 0, 1, 1, 0, 1, 0, 1, 1, 0, 1, 1, 1, 1, 1, 1, 0, 0, 1, 1, 0, 1,\n",
       "       0, 1, 0, 1, 0, 1, 0, 0, 1, 0, 0, 0, 1, 1, 0, 1, 1, 0, 1, 1, 1, 0,\n",
       "       1, 0, 1, 0, 0, 1, 1, 1, 1, 0, 0, 1, 1, 1, 1, 1, 1, 1, 1, 0, 1, 1,\n",
       "       1, 0, 0, 0, 1, 1, 1, 0, 1, 1, 1, 0, 0, 1, 1, 1, 0, 0, 1, 1, 1, 1,\n",
       "       1, 0, 1, 1, 1, 1, 1, 0, 0, 1, 0, 1, 1, 1, 0, 0, 0, 0, 1, 0, 1, 1,\n",
       "       1, 0, 0, 1, 1, 0, 1, 1, 0, 1, 1, 1, 1, 0, 1, 1, 1, 0, 1, 1, 1, 1,\n",
       "       0, 1, 1, 1, 0, 1, 0, 0, 0, 1, 1, 1, 1, 1, 0, 1, 1, 1, 1, 0, 1, 1,\n",
       "       1, 1, 0, 1, 0, 1, 0, 1, 0, 1, 0, 1, 1, 0, 1, 1, 1, 0, 0, 0, 1, 0,\n",
       "       0, 1, 1, 1, 1, 0, 1, 1, 0, 1, 1, 0, 0, 1, 1, 0, 1, 0, 1, 1, 1, 0,\n",
       "       0, 0, 1, 1, 0, 0, 0, 0, 1, 1, 1, 0, 0, 0, 0, 0, 1, 1, 0, 0, 1, 1,\n",
       "       0, 0, 1, 0, 1, 1, 0, 0, 1, 1, 0, 1, 1, 1, 1, 1, 1, 1, 1, 0, 0, 1,\n",
       "       1, 1, 1, 0, 1, 1, 0, 0, 0, 0, 1, 1, 0, 0, 1, 1, 1, 0, 1, 0, 0, 1,\n",
       "       1, 1, 1, 1, 0, 1, 0, 1, 1, 0, 1, 1, 0, 1, 0, 0, 1, 1, 1, 1, 1, 0,\n",
       "       1, 0, 1, 1, 1, 0, 1, 1, 1, 1, 0, 1, 0, 1, 0, 1, 1, 1, 1, 0, 0, 1,\n",
       "       0, 1, 0, 1, 1, 0, 0, 1, 0, 1, 0, 1, 1, 1, 0, 0, 1, 1, 1, 1, 1, 1,\n",
       "       1, 1, 1, 1, 0, 0, 0, 0, 1, 1, 0, 1, 1, 1, 1, 1, 1, 0, 1, 1, 0, 1,\n",
       "       1, 0, 1, 0, 1, 1, 1, 0, 1, 1, 1, 1, 0, 0, 0, 0, 1, 1, 1, 1, 1, 1,\n",
       "       0, 1, 0, 1, 0, 0, 1, 1, 0, 0, 1, 1, 1, 1, 1, 0, 1, 0, 1, 1, 1, 1,\n",
       "       0, 1, 0, 1, 1, 0, 1, 1, 1, 0, 1, 0, 0, 0, 1, 1, 1, 1, 0, 1, 1, 1,\n",
       "       1, 1, 1, 1, 1, 0, 0, 0, 1, 1, 1, 1, 1, 1, 0, 0, 1, 1, 1, 1, 1, 1,\n",
       "       0, 0, 1, 1, 1, 1])"
      ]
     },
     "execution_count": 372,
     "metadata": {},
     "output_type": "execute_result"
    }
   ],
   "source": [
    "test_target = test_data.MORTALITY.values\n",
    "test_target"
   ]
  },
  {
   "cell_type": "code",
   "execution_count": 377,
   "id": "a00e9526-dcce-4007-b190-784b5aaaf930",
   "metadata": {},
   "outputs": [
    {
     "data": {
      "image/png": "[encoded data removed]",
      "text/plain": [
       "<Figure size 432x288 with 2 Axes>"
      ]
     },
     "metadata": {
      "needs_background": "light"
     },
     "output_type": "display_data"
    }
   ],
   "source": [
    "from sklearn.metrics import confusion_matrix\n",
    "from sklearn.metrics import ConfusionMatrixDisplay\n",
    "cm = confusion_matrix(test_target, (kmeans.labels_-1)**2)\n",
    "disp = ConfusionMatrixDisplay(confusion_matrix=cm, display_labels=['0', '1'])\n",
    "disp = disp.plot(xticks_rotation='vertical', cmap=\"Blues\")\n",
    "plt.xlabel(\"Predicted\")\n",
    "plt.ylabel(\"True\")\n",
    "plt.title(\"Normalized Confusion Matrix\")\n",
    "plt.show()"
   ]
  },
  {
   "cell_type": "code",
   "execution_count": null,
   "id": "e4177037-1075-4fe9-9901-60625b6a38dc",
   "metadata": {},
   "outputs": [],
   "source": []
  }
 ],
 "metadata": {
  "kernelspec": {
   "display_name": "Python 3",
   "language": "python",
   "name": "python3"
  },
  "language_info": {
   "codemirror_mode": {
    "name": "ipython",
    "version": 3
   },
   "file_extension": ".py",
   "mimetype": "text/x-python",
   "name": "python",
   "nbconvert_exporter": "python",
   "pygments_lexer": "ipython3",
   "version": "3.8.8"
  }
 },
 "nbformat": 4,
 "nbformat_minor": 5
}
